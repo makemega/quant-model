{
  "cells": [
    {
      "cell_type": "markdown",
      "metadata": {
        "id": "LMy9jJk2iBvF"
      },
      "source": [
        "importing the modules"
      ]
    },
    {
      "cell_type": "code",
      "execution_count": null,
      "metadata": {
        "id": "hs2mwsSjHjNi"
      },
      "outputs": [],
      "source": [
        "import pandas as pd\n",
        "import numpy as np\n",
        "import matplotlib.pyplot as plt\n",
        "import seaborn as sns\n",
        "from sklearn.svm import SVR\n",
        "from sklearn.metrics import mean_squared_error\n",
        "from sklearn.model_selection import train_test_split\n",
        "from sklearn.preprocessing import StandardScaler\n",
        "from sklearn.svm import SVC\n",
        "import pickle\n",
        "import joblib\n",
        "from sklearn.metrics import accuracy_score\n",
        "from sklearn.model_selection import GridSearchCV\n",
        "from sklearn.model_selection import  TimeSeriesSplit\n",
        "\n",
        "\n"
      ]
    },
    {
      "cell_type": "code",
      "source": [
        "!pip install alpha_vantage"
      ],
      "metadata": {
        "colab": {
          "base_uri": "https://localhost:8080/"
        },
        "id": "L0N9NEA4fh1V",
        "outputId": "8d271ffc-15ea-4318-d94f-ca69a4da7934"
      },
      "execution_count": null,
      "outputs": [
        {
          "output_type": "stream",
          "name": "stdout",
          "text": [
            "Collecting alpha_vantage\n",
            "  Downloading alpha_vantage-3.0.0-py3-none-any.whl.metadata (12 kB)\n",
            "Requirement already satisfied: aiohttp in /usr/local/lib/python3.10/dist-packages (from alpha_vantage) (3.11.2)\n",
            "Requirement already satisfied: requests in /usr/local/lib/python3.10/dist-packages (from alpha_vantage) (2.32.3)\n",
            "Requirement already satisfied: aiohappyeyeballs>=2.3.0 in /usr/local/lib/python3.10/dist-packages (from aiohttp->alpha_vantage) (2.4.3)\n",
            "Requirement already satisfied: aiosignal>=1.1.2 in /usr/local/lib/python3.10/dist-packages (from aiohttp->alpha_vantage) (1.3.1)\n",
            "Requirement already satisfied: attrs>=17.3.0 in /usr/local/lib/python3.10/dist-packages (from aiohttp->alpha_vantage) (24.2.0)\n",
            "Requirement already satisfied: frozenlist>=1.1.1 in /usr/local/lib/python3.10/dist-packages (from aiohttp->alpha_vantage) (1.5.0)\n",
            "Requirement already satisfied: multidict<7.0,>=4.5 in /usr/local/lib/python3.10/dist-packages (from aiohttp->alpha_vantage) (6.1.0)\n",
            "Requirement already satisfied: propcache>=0.2.0 in /usr/local/lib/python3.10/dist-packages (from aiohttp->alpha_vantage) (0.2.0)\n",
            "Requirement already satisfied: yarl<2.0,>=1.17.0 in /usr/local/lib/python3.10/dist-packages (from aiohttp->alpha_vantage) (1.17.2)\n",
            "Requirement already satisfied: async-timeout<6.0,>=4.0 in /usr/local/lib/python3.10/dist-packages (from aiohttp->alpha_vantage) (4.0.3)\n",
            "Requirement already satisfied: charset-normalizer<4,>=2 in /usr/local/lib/python3.10/dist-packages (from requests->alpha_vantage) (3.4.0)\n",
            "Requirement already satisfied: idna<4,>=2.5 in /usr/local/lib/python3.10/dist-packages (from requests->alpha_vantage) (3.10)\n",
            "Requirement already satisfied: urllib3<3,>=1.21.1 in /usr/local/lib/python3.10/dist-packages (from requests->alpha_vantage) (2.2.3)\n",
            "Requirement already satisfied: certifi>=2017.4.17 in /usr/local/lib/python3.10/dist-packages (from requests->alpha_vantage) (2024.8.30)\n",
            "Requirement already satisfied: typing-extensions>=4.1.0 in /usr/local/lib/python3.10/dist-packages (from multidict<7.0,>=4.5->aiohttp->alpha_vantage) (4.12.2)\n",
            "Downloading alpha_vantage-3.0.0-py3-none-any.whl (35 kB)\n",
            "Installing collected packages: alpha_vantage\n",
            "Successfully installed alpha_vantage-3.0.0\n"
          ]
        }
      ]
    },
    {
      "cell_type": "code",
      "source": [
        "from alpha_vantage.foreignexchange import ForeignExchange"
      ],
      "metadata": {
        "id": "_zchteYJG6c3"
      },
      "execution_count": null,
      "outputs": []
    },
    {
      "cell_type": "code",
      "execution_count": null,
      "metadata": {
        "colab": {
          "base_uri": "https://localhost:8080/"
        },
        "id": "UJFert0uHZC6",
        "outputId": "68fe917c-4f11-4e76-e9c5-9789428f72e6"
      },
      "outputs": [
        {
          "output_type": "stream",
          "name": "stdout",
          "text": [
            "Requirement already satisfied: yfinance in /usr/local/lib/python3.10/dist-packages (0.2.49)\n",
            "Requirement already satisfied: pandas>=1.3.0 in /usr/local/lib/python3.10/dist-packages (from yfinance) (2.2.2)\n",
            "Requirement already satisfied: numpy>=1.16.5 in /usr/local/lib/python3.10/dist-packages (from yfinance) (1.26.4)\n",
            "Requirement already satisfied: requests>=2.31 in /usr/local/lib/python3.10/dist-packages (from yfinance) (2.32.3)\n",
            "Requirement already satisfied: multitasking>=0.0.7 in /usr/local/lib/python3.10/dist-packages (from yfinance) (0.0.11)\n",
            "Requirement already satisfied: lxml>=4.9.1 in /usr/local/lib/python3.10/dist-packages (from yfinance) (5.3.0)\n",
            "Requirement already satisfied: platformdirs>=2.0.0 in /usr/local/lib/python3.10/dist-packages (from yfinance) (4.3.6)\n",
            "Requirement already satisfied: pytz>=2022.5 in /usr/local/lib/python3.10/dist-packages (from yfinance) (2024.2)\n",
            "Requirement already satisfied: frozendict>=2.3.4 in /usr/local/lib/python3.10/dist-packages (from yfinance) (2.4.6)\n",
            "Requirement already satisfied: peewee>=3.16.2 in /usr/local/lib/python3.10/dist-packages (from yfinance) (3.17.8)\n",
            "Requirement already satisfied: beautifulsoup4>=4.11.1 in /usr/local/lib/python3.10/dist-packages (from yfinance) (4.12.3)\n",
            "Requirement already satisfied: html5lib>=1.1 in /usr/local/lib/python3.10/dist-packages (from yfinance) (1.1)\n",
            "Requirement already satisfied: soupsieve>1.2 in /usr/local/lib/python3.10/dist-packages (from beautifulsoup4>=4.11.1->yfinance) (2.6)\n",
            "Requirement already satisfied: six>=1.9 in /usr/local/lib/python3.10/dist-packages (from html5lib>=1.1->yfinance) (1.16.0)\n",
            "Requirement already satisfied: webencodings in /usr/local/lib/python3.10/dist-packages (from html5lib>=1.1->yfinance) (0.5.1)\n",
            "Requirement already satisfied: python-dateutil>=2.8.2 in /usr/local/lib/python3.10/dist-packages (from pandas>=1.3.0->yfinance) (2.8.2)\n",
            "Requirement already satisfied: tzdata>=2022.7 in /usr/local/lib/python3.10/dist-packages (from pandas>=1.3.0->yfinance) (2024.2)\n",
            "Requirement already satisfied: charset-normalizer<4,>=2 in /usr/local/lib/python3.10/dist-packages (from requests>=2.31->yfinance) (3.4.0)\n",
            "Requirement already satisfied: idna<4,>=2.5 in /usr/local/lib/python3.10/dist-packages (from requests>=2.31->yfinance) (3.10)\n",
            "Requirement already satisfied: urllib3<3,>=1.21.1 in /usr/local/lib/python3.10/dist-packages (from requests>=2.31->yfinance) (2.2.3)\n",
            "Requirement already satisfied: certifi>=2017.4.17 in /usr/local/lib/python3.10/dist-packages (from requests>=2.31->yfinance) (2024.8.30)\n"
          ]
        }
      ],
      "source": [
        "!pip install yfinance\n",
        "import yfinance as yf"
      ]
    },
    {
      "cell_type": "markdown",
      "metadata": {
        "id": "GQyGMMl8iMaT"
      },
      "source": [
        "data exploration and cleaning"
      ]
    },
    {
      "cell_type": "code",
      "execution_count": null,
      "metadata": {
        "colab": {
          "base_uri": "https://localhost:8080/"
        },
        "id": "E2KSs0AmK6vn",
        "outputId": "4328239a-12d0-4fe9-c736-f9118ee21eb9"
      },
      "outputs": [
        {
          "output_type": "stream",
          "name": "stderr",
          "text": [
            "\r[*********************100%***********************]  1 of 1 completed"
          ]
        },
        {
          "output_type": "stream",
          "name": "stdout",
          "text": [
            "Price                     Adj Close     Close      High       Low      Open  \\\n",
            "Ticker                     EURUSD=X  EURUSD=X  EURUSD=X  EURUSD=X  EURUSD=X   \n",
            "Date                                                                          \n",
            "2010-01-01 00:00:00+00:00  1.438994  1.438994  1.440196  1.432706  1.432706   \n",
            "2010-01-04 00:00:00+00:00  1.442398  1.442398  1.445191  1.426208  1.431004   \n",
            "2010-01-05 00:00:00+00:00  1.436596  1.436596  1.448310  1.435194  1.442710   \n",
            "2010-01-06 00:00:00+00:00  1.440403  1.440403  1.443460  1.429123  1.436596   \n",
            "2010-01-07 00:00:00+00:00  1.431803  1.431803  1.444481  1.430206  1.440300   \n",
            "\n",
            "Price                       Volume  \n",
            "Ticker                    EURUSD=X  \n",
            "Date                                \n",
            "2010-01-01 00:00:00+00:00        0  \n",
            "2010-01-04 00:00:00+00:00        0  \n",
            "2010-01-05 00:00:00+00:00        0  \n",
            "2010-01-06 00:00:00+00:00        0  \n",
            "2010-01-07 00:00:00+00:00        0  \n"
          ]
        },
        {
          "output_type": "stream",
          "name": "stderr",
          "text": [
            "\n"
          ]
        }
      ],
      "source": [
        "data = yf.download('EURUSD=X', start='2010-01-01', end='2024-11-08', interval='1d')\n",
        "print(data.head())"
      ]
    },
    {
      "cell_type": "code",
      "execution_count": null,
      "metadata": {
        "colab": {
          "base_uri": "https://localhost:8080/"
        },
        "id": "bewuHmNlWZLz",
        "outputId": "a84d47f3-c936-47e1-fa26-140a6b1085f8"
      },
      "outputs": [
        {
          "output_type": "execute_result",
          "data": {
            "text/plain": [
              "(3870, 6)"
            ]
          },
          "metadata": {},
          "execution_count": 6
        }
      ],
      "source": [
        "data.shape"
      ]
    },
    {
      "cell_type": "code",
      "execution_count": null,
      "metadata": {
        "colab": {
          "base_uri": "https://localhost:8080/"
        },
        "id": "UxvCO9NnIcTW",
        "outputId": "13e0cf20-544f-43de-a29f-16980b1cd422"
      },
      "outputs": [
        {
          "output_type": "stream",
          "name": "stdout",
          "text": [
            "<class 'pandas.core.frame.DataFrame'>\n",
            "DatetimeIndex: 3870 entries, 2010-01-01 00:00:00+00:00 to 2024-11-07 00:00:00+00:00\n",
            "Data columns (total 6 columns):\n",
            " #   Column                 Non-Null Count  Dtype  \n",
            "---  ------                 --------------  -----  \n",
            " 0   (Adj Close, EURUSD=X)  3870 non-null   float64\n",
            " 1   (Close, EURUSD=X)      3870 non-null   float64\n",
            " 2   (High, EURUSD=X)       3870 non-null   float64\n",
            " 3   (Low, EURUSD=X)        3870 non-null   float64\n",
            " 4   (Open, EURUSD=X)       3870 non-null   float64\n",
            " 5   (Volume, EURUSD=X)     3870 non-null   int64  \n",
            "dtypes: float64(5), int64(1)\n",
            "memory usage: 211.6 KB\n",
            "None\n"
          ]
        }
      ],
      "source": [
        "print(data.info())\n"
      ]
    },
    {
      "cell_type": "code",
      "source": [
        "import yfinance as yf\n",
        "import pandas as pd\n",
        "import numpy as np\n",
        "import joblib  # For loading the model\n",
        "\n",
        "# Class to handle real-time data retrieval and signal generation\n",
        "class SimpleSignalGenerator:\n",
        "    def __init__(self, ticker, model_filename='svc_model.pkl', window_size=20, threshold=0.02):\n",
        "        self.ticker = ticker\n",
        "        self.model_filename = model_filename\n",
        "        self.window_size = window_size\n",
        "        self.threshold = threshold\n",
        "        self.model = self.load_model()\n",
        "\n",
        "    def load_model(self):\n",
        "        # Load the trained model\n",
        "        model = joblib.load(self.model_filename)\n",
        "        return model\n",
        "\n",
        "    def get_real_time_data(self):\n",
        "        # Retrieve real-time stock data (last 1000 data points for example)\n",
        "        data = yf.download(self.ticker, period='1d', interval='1m')  # 1-minute interval data for real-time\n",
        "        return data\n",
        "\n",
        "    def preprocess_data(self, data):\n",
        "        # Calculate the moving average for mean reversion strategy\n",
        "        data['MovingAverage'] = data['Close'].rolling(window=self.window_size).mean()\n",
        "\n",
        "        # Calculate the Mean Reversion Signal\n",
        "        data['MeanReversionSignal'] = np.where(data['Close'] > data['MovingAverage'] * (1 + self.threshold), -1,\n",
        "                                               np.where(data['Close'] < data['MovingAverage'] * (1 - self.threshold), 1, 0))\n",
        "\n",
        "        # Remove rows with NaN values (if any)\n",
        "        data = data.dropna()\n",
        "\n",
        "        return data\n",
        "\n",
        "    def generate_trading_signals(self, data):\n",
        "        # Preprocess the data\n",
        "        data = self.preprocess_data(data)\n",
        "\n",
        "        # Generate trading signals based on model predictions\n",
        "        data['Signal'] = self.model.predict(data[['Adj Close', 'High', 'Low', 'Open', 'Volume', 'MovingAverage', 'MeanReversionSignal']])\n",
        "        data['Trade'] = np.where(data['Signal'] == 1, 'Buy', np.where(data['Signal'] == -1, 'Sell', 'Hold'))\n",
        "\n",
        "        # Return the latest trading signal\n",
        "        return data[['Close', 'Trade']].tail(1)  # Only the most recent data point\n",
        "\n",
        "    def get_and_generate_signals(self):\n",
        "        # Retrieve the latest real-time data\n",
        "        real_time_data = self.get_real_time_data()\n",
        "\n",
        "        # Generate trading signals for the latest data\n",
        "        signals = self.generate_trading_signals(real_time_data)\n",
        "        return signals\n",
        "\n",
        "\n",
        "# Example usage:\n",
        "if __name__ == \"__main__\":\n",
        "    # Initialize the signal generator with the stock ticker\n",
        "    signal_generator = SimpleSignalGenerator(ticker='AAPL')  # Example: Apple stock\n",
        "\n",
        "    # Generate trading signals\n",
        "    trading_signal = signal_generator.get_and_generate_signals()\n",
        "\n",
        "    # Print the latest trading signal\n",
        "    print(trading_signal)\n"
      ],
      "metadata": {
        "id": "MM37HJQ_0ZHj",
        "colab": {
          "base_uri": "https://localhost:8080/",
          "height": 356
        },
        "outputId": "f5af8c1a-8fb4-40a0-9592-67c4c6998b55"
      },
      "execution_count": null,
      "outputs": [
        {
          "output_type": "error",
          "ename": "FileNotFoundError",
          "evalue": "[Errno 2] No such file or directory: 'svc_model.pkl'",
          "traceback": [
            "\u001b[0;31m---------------------------------------------------------------------------\u001b[0m",
            "\u001b[0;31mFileNotFoundError\u001b[0m                         Traceback (most recent call last)",
            "\u001b[0;32m<ipython-input-1-d981ee0c5ac6>\u001b[0m in \u001b[0;36m<cell line: 59>\u001b[0;34m()\u001b[0m\n\u001b[1;32m     59\u001b[0m \u001b[0;32mif\u001b[0m \u001b[0m__name__\u001b[0m \u001b[0;34m==\u001b[0m \u001b[0;34m\"__main__\"\u001b[0m\u001b[0;34m:\u001b[0m\u001b[0;34m\u001b[0m\u001b[0;34m\u001b[0m\u001b[0m\n\u001b[1;32m     60\u001b[0m     \u001b[0;31m# Initialize the signal generator with the stock ticker\u001b[0m\u001b[0;34m\u001b[0m\u001b[0;34m\u001b[0m\u001b[0m\n\u001b[0;32m---> 61\u001b[0;31m     \u001b[0msignal_generator\u001b[0m \u001b[0;34m=\u001b[0m \u001b[0mSimpleSignalGenerator\u001b[0m\u001b[0;34m(\u001b[0m\u001b[0mticker\u001b[0m\u001b[0;34m=\u001b[0m\u001b[0;34m'AAPL'\u001b[0m\u001b[0;34m)\u001b[0m  \u001b[0;31m# Example: Apple stock\u001b[0m\u001b[0;34m\u001b[0m\u001b[0;34m\u001b[0m\u001b[0m\n\u001b[0m\u001b[1;32m     62\u001b[0m \u001b[0;34m\u001b[0m\u001b[0m\n\u001b[1;32m     63\u001b[0m     \u001b[0;31m# Generate trading signals\u001b[0m\u001b[0;34m\u001b[0m\u001b[0;34m\u001b[0m\u001b[0m\n",
            "\u001b[0;32m<ipython-input-1-d981ee0c5ac6>\u001b[0m in \u001b[0;36m__init__\u001b[0;34m(self, ticker, model_filename, window_size, threshold)\u001b[0m\n\u001b[1;32m     11\u001b[0m         \u001b[0mself\u001b[0m\u001b[0;34m.\u001b[0m\u001b[0mwindow_size\u001b[0m \u001b[0;34m=\u001b[0m \u001b[0mwindow_size\u001b[0m\u001b[0;34m\u001b[0m\u001b[0;34m\u001b[0m\u001b[0m\n\u001b[1;32m     12\u001b[0m         \u001b[0mself\u001b[0m\u001b[0;34m.\u001b[0m\u001b[0mthreshold\u001b[0m \u001b[0;34m=\u001b[0m \u001b[0mthreshold\u001b[0m\u001b[0;34m\u001b[0m\u001b[0;34m\u001b[0m\u001b[0m\n\u001b[0;32m---> 13\u001b[0;31m         \u001b[0mself\u001b[0m\u001b[0;34m.\u001b[0m\u001b[0mmodel\u001b[0m \u001b[0;34m=\u001b[0m \u001b[0mself\u001b[0m\u001b[0;34m.\u001b[0m\u001b[0mload_model\u001b[0m\u001b[0;34m(\u001b[0m\u001b[0;34m)\u001b[0m\u001b[0;34m\u001b[0m\u001b[0;34m\u001b[0m\u001b[0m\n\u001b[0m\u001b[1;32m     14\u001b[0m \u001b[0;34m\u001b[0m\u001b[0m\n\u001b[1;32m     15\u001b[0m     \u001b[0;32mdef\u001b[0m \u001b[0mload_model\u001b[0m\u001b[0;34m(\u001b[0m\u001b[0mself\u001b[0m\u001b[0;34m)\u001b[0m\u001b[0;34m:\u001b[0m\u001b[0;34m\u001b[0m\u001b[0;34m\u001b[0m\u001b[0m\n",
            "\u001b[0;32m<ipython-input-1-d981ee0c5ac6>\u001b[0m in \u001b[0;36mload_model\u001b[0;34m(self)\u001b[0m\n\u001b[1;32m     15\u001b[0m     \u001b[0;32mdef\u001b[0m \u001b[0mload_model\u001b[0m\u001b[0;34m(\u001b[0m\u001b[0mself\u001b[0m\u001b[0;34m)\u001b[0m\u001b[0;34m:\u001b[0m\u001b[0;34m\u001b[0m\u001b[0;34m\u001b[0m\u001b[0m\n\u001b[1;32m     16\u001b[0m         \u001b[0;31m# Load the trained model\u001b[0m\u001b[0;34m\u001b[0m\u001b[0;34m\u001b[0m\u001b[0m\n\u001b[0;32m---> 17\u001b[0;31m         \u001b[0mmodel\u001b[0m \u001b[0;34m=\u001b[0m \u001b[0mjoblib\u001b[0m\u001b[0;34m.\u001b[0m\u001b[0mload\u001b[0m\u001b[0;34m(\u001b[0m\u001b[0mself\u001b[0m\u001b[0;34m.\u001b[0m\u001b[0mmodel_filename\u001b[0m\u001b[0;34m)\u001b[0m\u001b[0;34m\u001b[0m\u001b[0;34m\u001b[0m\u001b[0m\n\u001b[0m\u001b[1;32m     18\u001b[0m         \u001b[0;32mreturn\u001b[0m \u001b[0mmodel\u001b[0m\u001b[0;34m\u001b[0m\u001b[0;34m\u001b[0m\u001b[0m\n\u001b[1;32m     19\u001b[0m \u001b[0;34m\u001b[0m\u001b[0m\n",
            "\u001b[0;32m/usr/local/lib/python3.10/dist-packages/joblib/numpy_pickle.py\u001b[0m in \u001b[0;36mload\u001b[0;34m(filename, mmap_mode)\u001b[0m\n\u001b[1;32m    648\u001b[0m             \u001b[0mobj\u001b[0m \u001b[0;34m=\u001b[0m \u001b[0m_unpickle\u001b[0m\u001b[0;34m(\u001b[0m\u001b[0mfobj\u001b[0m\u001b[0;34m)\u001b[0m\u001b[0;34m\u001b[0m\u001b[0;34m\u001b[0m\u001b[0m\n\u001b[1;32m    649\u001b[0m     \u001b[0;32melse\u001b[0m\u001b[0;34m:\u001b[0m\u001b[0;34m\u001b[0m\u001b[0;34m\u001b[0m\u001b[0m\n\u001b[0;32m--> 650\u001b[0;31m         \u001b[0;32mwith\u001b[0m \u001b[0mopen\u001b[0m\u001b[0;34m(\u001b[0m\u001b[0mfilename\u001b[0m\u001b[0;34m,\u001b[0m \u001b[0;34m'rb'\u001b[0m\u001b[0;34m)\u001b[0m \u001b[0;32mas\u001b[0m \u001b[0mf\u001b[0m\u001b[0;34m:\u001b[0m\u001b[0;34m\u001b[0m\u001b[0;34m\u001b[0m\u001b[0m\n\u001b[0m\u001b[1;32m    651\u001b[0m             \u001b[0;32mwith\u001b[0m \u001b[0m_read_fileobject\u001b[0m\u001b[0;34m(\u001b[0m\u001b[0mf\u001b[0m\u001b[0;34m,\u001b[0m \u001b[0mfilename\u001b[0m\u001b[0;34m,\u001b[0m \u001b[0mmmap_mode\u001b[0m\u001b[0;34m)\u001b[0m \u001b[0;32mas\u001b[0m \u001b[0mfobj\u001b[0m\u001b[0;34m:\u001b[0m\u001b[0;34m\u001b[0m\u001b[0;34m\u001b[0m\u001b[0m\n\u001b[1;32m    652\u001b[0m                 \u001b[0;32mif\u001b[0m \u001b[0misinstance\u001b[0m\u001b[0;34m(\u001b[0m\u001b[0mfobj\u001b[0m\u001b[0;34m,\u001b[0m \u001b[0mstr\u001b[0m\u001b[0;34m)\u001b[0m\u001b[0;34m:\u001b[0m\u001b[0;34m\u001b[0m\u001b[0;34m\u001b[0m\u001b[0m\n",
            "\u001b[0;31mFileNotFoundError\u001b[0m: [Errno 2] No such file or directory: 'svc_model.pkl'"
          ]
        }
      ]
    },
    {
      "cell_type": "code",
      "execution_count": null,
      "metadata": {
        "colab": {
          "base_uri": "https://localhost:8080/"
        },
        "id": "2gTMBYnMLWip",
        "outputId": "07784a6d-902c-493e-a2bc-e26d50241142"
      },
      "outputs": [
        {
          "output_type": "stream",
          "name": "stdout",
          "text": [
            "Price      Ticker  \n",
            "Adj Close  EURUSD=X    0\n",
            "Close      EURUSD=X    0\n",
            "High       EURUSD=X    0\n",
            "Low        EURUSD=X    0\n",
            "Open       EURUSD=X    0\n",
            "Volume     EURUSD=X    0\n",
            "dtype: int64\n"
          ]
        }
      ],
      "source": [
        "print(data.isnull().sum())\n"
      ]
    },
    {
      "cell_type": "code",
      "execution_count": null,
      "metadata": {
        "colab": {
          "base_uri": "https://localhost:8080/"
        },
        "id": "DMSSZGHTLjYE",
        "outputId": "cdc1d616-735f-4c1a-f38d-de687334bda1"
      },
      "outputs": [
        {
          "output_type": "stream",
          "name": "stdout",
          "text": [
            "Number of duplicate rows: 0\n"
          ]
        }
      ],
      "source": [
        "duplicates = data[data.duplicated()]\n",
        "print(\"Number of duplicate rows:\", duplicates.shape[0])"
      ]
    },
    {
      "cell_type": "code",
      "execution_count": null,
      "metadata": {
        "colab": {
          "base_uri": "https://localhost:8080/"
        },
        "id": "E-e2ciTTWIM7",
        "outputId": "dd1b956f-5630-494f-c59b-4725ff1f7413"
      },
      "outputs": [
        {
          "output_type": "stream",
          "name": "stdout",
          "text": [
            "Number of duplicate rows: 0\n"
          ]
        }
      ],
      "source": [
        "\n",
        "data_cleaned = data[~data.index.duplicated(keep='first')]\n",
        "\n",
        "duplicates = data[data.index.duplicated()]\n",
        "print(\"Number of duplicate rows:\", duplicates.shape[0])"
      ]
    },
    {
      "cell_type": "code",
      "execution_count": null,
      "metadata": {
        "colab": {
          "base_uri": "https://localhost:8080/"
        },
        "id": "Pq_7DiORLj_O",
        "outputId": "ca19b580-6c99-4a4b-9d87-9ddac113dfb4"
      },
      "outputs": [
        {
          "output_type": "stream",
          "name": "stdout",
          "text": [
            "Outliers in ('Adj Close', 'EURUSD=X'):\n",
            "Series([], Name: (Adj Close, EURUSD=X), dtype: float64)\n",
            "\n",
            "\n",
            "Outliers in ('Close', 'EURUSD=X'):\n",
            "Series([], Name: (Close, EURUSD=X), dtype: float64)\n",
            "\n",
            "\n",
            "Outliers in ('High', 'EURUSD=X'):\n",
            "Series([], Name: (High, EURUSD=X), dtype: float64)\n",
            "\n",
            "\n",
            "Outliers in ('Low', 'EURUSD=X'):\n",
            "Date\n",
            "2012-01-27 00:00:00+00:00    0.760572\n",
            "Name: (Low, EURUSD=X), dtype: float64\n",
            "\n",
            "\n",
            "Outliers in ('Open', 'EURUSD=X'):\n",
            "Series([], Name: (Open, EURUSD=X), dtype: float64)\n",
            "\n",
            "\n",
            "Outliers in ('Volume', 'EURUSD=X'):\n",
            "Series([], Name: (Volume, EURUSD=X), dtype: int64)\n",
            "\n",
            "\n"
          ]
        }
      ],
      "source": [
        "\n",
        "def detect_outliers(data):\n",
        "    outliers = {}\n",
        "    for column in data.select_dtypes(include=['float64', 'int64']).columns:\n",
        "        # Drop NaN values for this calculation\n",
        "        col_data = data[column].dropna()\n",
        "\n",
        "        # Calculate Q1 (25th percentile) and Q3 (75th percentile)\n",
        "        Q1 = col_data.quantile(0.25)\n",
        "        Q3 = col_data.quantile(0.75)\n",
        "        IQR = Q3 - Q1\n",
        "\n",
        "        # Define outlier boundaries\n",
        "        lower_bound = Q1 - 1.5 * IQR\n",
        "        upper_bound = Q3 + 1.5 * IQR\n",
        "\n",
        "        # Find outliers\n",
        "        outliers[column] = col_data[(col_data < lower_bound) | (col_data > upper_bound)]\n",
        "\n",
        "    return outliers\n",
        "\n",
        "outliers_found = detect_outliers(data)\n",
        "\n",
        "# Display the results\n",
        "for column, outliers in outliers_found.items():\n",
        "    print(f\"Outliers in {column}:\")\n",
        "    print(outliers)\n",
        "    print(\"\\n\")\n"
      ]
    },
    {
      "cell_type": "code",
      "execution_count": null,
      "metadata": {
        "colab": {
          "base_uri": "https://localhost:8080/"
        },
        "id": "PIcpz72wQt34",
        "outputId": "bf5fbd16-3c21-43fb-b4f3-9142eca28294"
      },
      "outputs": [
        {
          "output_type": "stream",
          "name": "stdout",
          "text": [
            "Data after removing the outlier:\n",
            "Price                     Adj Close     Close      High       Low      Open  \\\n",
            "Ticker                     EURUSD=X  EURUSD=X  EURUSD=X  EURUSD=X  EURUSD=X   \n",
            "Date                                                                          \n",
            "2010-01-01 00:00:00+00:00  1.438994  1.438994  1.440196  1.432706  1.432706   \n",
            "2010-01-04 00:00:00+00:00  1.442398  1.442398  1.445191  1.426208  1.431004   \n",
            "2010-01-05 00:00:00+00:00  1.436596  1.436596  1.448310  1.435194  1.442710   \n",
            "2010-01-06 00:00:00+00:00  1.440403  1.440403  1.443460  1.429123  1.436596   \n",
            "2010-01-07 00:00:00+00:00  1.431803  1.431803  1.444481  1.430206  1.440300   \n",
            "...                             ...       ...       ...       ...       ...   \n",
            "2024-11-01 00:00:00+00:00  1.088613  1.088613  1.090405  1.084846  1.088613   \n",
            "2024-11-04 00:00:00+00:00  1.087453  1.087453  1.091584  1.087039  1.087453   \n",
            "2024-11-05 00:00:00+00:00  1.087406  1.087406  1.092180  1.087335  1.087406   \n",
            "2024-11-06 00:00:00+00:00  1.093446  1.093446  1.093338  1.068376  1.093446   \n",
            "2024-11-07 00:00:00+00:00  1.073307  1.073307  1.082603  1.071409  1.073307   \n",
            "\n",
            "Price                       Volume  \n",
            "Ticker                    EURUSD=X  \n",
            "Date                                \n",
            "2010-01-01 00:00:00+00:00        0  \n",
            "2010-01-04 00:00:00+00:00        0  \n",
            "2010-01-05 00:00:00+00:00        0  \n",
            "2010-01-06 00:00:00+00:00        0  \n",
            "2010-01-07 00:00:00+00:00        0  \n",
            "...                            ...  \n",
            "2024-11-01 00:00:00+00:00        0  \n",
            "2024-11-04 00:00:00+00:00        0  \n",
            "2024-11-05 00:00:00+00:00        0  \n",
            "2024-11-06 00:00:00+00:00        0  \n",
            "2024-11-07 00:00:00+00:00        0  \n",
            "\n",
            "[3869 rows x 6 columns]\n"
          ]
        }
      ],
      "source": [
        "\n",
        "outlier_date = '2012-01-27'\n",
        "data_cleaned = data[data.index != outlier_date]\n",
        "\n",
        "print(\"Data after removing the outlier:\")\n",
        "print(data_cleaned)\n"
      ]
    },
    {
      "cell_type": "code",
      "execution_count": null,
      "metadata": {
        "colab": {
          "base_uri": "https://localhost:8080/",
          "height": 589
        },
        "id": "LBT3ApxbQuVd",
        "outputId": "7c659c21-60a0-467d-b123-a7742d273cf2"
      },
      "outputs": [
        {
          "output_type": "display_data",
          "data": {
            "text/plain": [
              "<Figure size 640x480 with 2 Axes>"
            ],
            "image/png": "[encoded data removed]"
          },
          "metadata": {}
        }
      ],
      "source": [
        "\n",
        "\n",
        "corr_matrix = data_cleaned[['Adj Close', 'Close', 'High', 'Low', 'Open', 'Volume']].corr()\n",
        "sns.heatmap(corr_matrix, annot=True, cmap='coolwarm')\n",
        "plt.show()\n"
      ]
    },
    {
      "cell_type": "code",
      "execution_count": null,
      "metadata": {
        "colab": {
          "base_uri": "https://localhost:8080/"
        },
        "id": "yfM8VyuvWSJ-",
        "outputId": "038be58c-2d63-42ad-b042-21e8bafed540"
      },
      "outputs": [
        {
          "output_type": "stream",
          "name": "stdout",
          "text": [
            "Price     Adj Close        Close         High          Low         Open  \\\n",
            "Ticker     EURUSD=X     EURUSD=X     EURUSD=X     EURUSD=X     EURUSD=X   \n",
            "count   3869.000000  3869.000000  3869.000000  3869.000000  3869.000000   \n",
            "mean       1.191483     1.191483     1.195556     1.187350     1.191505   \n",
            "std        0.113775     0.113775     0.114395     0.113170     0.113834   \n",
            "min        0.959619     0.959619     0.967006     0.954016     0.959619   \n",
            "25%        1.099384     1.099384     1.103000     1.095554     1.099372   \n",
            "50%        1.158856     1.158856     1.161980     1.154935     1.158869   \n",
            "75%        1.295337     1.295337     1.299596     1.291005     1.295203   \n",
            "max        1.484406     1.484406     1.493808     1.480494     1.484296   \n",
            "\n",
            "Price    Volume  \n",
            "Ticker EURUSD=X  \n",
            "count    3869.0  \n",
            "mean        0.0  \n",
            "std         0.0  \n",
            "min         0.0  \n",
            "25%         0.0  \n",
            "50%         0.0  \n",
            "75%         0.0  \n",
            "max         0.0  \n"
          ]
        }
      ],
      "source": [
        "print(data_cleaned.describe())"
      ]
    },
    {
      "cell_type": "code",
      "execution_count": null,
      "metadata": {
        "colab": {
          "base_uri": "https://localhost:8080/"
        },
        "id": "jnjDGmzIWavT",
        "outputId": "e9245e3b-311d-49c0-c91b-a5365fb1b815"
      },
      "outputs": [
        {
          "output_type": "execute_result",
          "data": {
            "text/plain": [
              "MultiIndex([('Adj Close', 'EURUSD=X'),\n",
              "            (    'Close', 'EURUSD=X'),\n",
              "            (     'High', 'EURUSD=X'),\n",
              "            (      'Low', 'EURUSD=X'),\n",
              "            (     'Open', 'EURUSD=X'),\n",
              "            (   'Volume', 'EURUSD=X')],\n",
              "           names=['Price', 'Ticker'])"
            ]
          },
          "metadata": {},
          "execution_count": 15
        }
      ],
      "source": [
        "data.columns\n"
      ]
    },
    {
      "cell_type": "code",
      "execution_count": null,
      "metadata": {
        "colab": {
          "base_uri": "https://localhost:8080/"
        },
        "id": "FlqadDKyWiZd",
        "outputId": "1e2dcd19-7b92-4896-f0d9-13813caf9764"
      },
      "outputs": [
        {
          "output_type": "execute_result",
          "data": {
            "text/plain": [
              "Index(['Adj Close EURUSD=X', 'Close EURUSD=X', 'High EURUSD=X', 'Low EURUSD=X',\n",
              "       'Open EURUSD=X', 'Volume EURUSD=X'],\n",
              "      dtype='object')"
            ]
          },
          "metadata": {},
          "execution_count": 16
        }
      ],
      "source": [
        "data.columns = [' '.join(col).strip() for col in data.columns.values]\n",
        "data.columns"
      ]
    },
    {
      "cell_type": "code",
      "execution_count": null,
      "metadata": {
        "colab": {
          "base_uri": "https://localhost:8080/"
        },
        "id": "F5svjkklYsCW",
        "outputId": "bef6ea95-5670-4630-d225-c1384570c211"
      },
      "outputs": [
        {
          "output_type": "stream",
          "name": "stdout",
          "text": [
            "Index(['AdjCloseEURUSD=X', 'CloseEURUSD=X', 'HighEURUSD=X', 'LowEURUSD=X',\n",
            "       'OpenEURUSD=X', 'VolumeEURUSD=X'],\n",
            "      dtype='object')\n"
          ]
        }
      ],
      "source": [
        "# Fix column names to remove extra spaces\n",
        "data.columns = [' '.join(col).replace(\" \", \"\") for col in data.columns.values]\n",
        "\n",
        "# Check the cleaned column names\n",
        "print(data.columns)\n"
      ]
    },
    {
      "cell_type": "code",
      "execution_count": null,
      "metadata": {
        "colab": {
          "base_uri": "https://localhost:8080/"
        },
        "id": "GzGmXLvdaw9I",
        "outputId": "edcdef0b-7820-4e70-ca63-453397ff1622"
      },
      "outputs": [
        {
          "output_type": "stream",
          "name": "stdout",
          "text": [
            "Index(['AdjClose', 'Close', 'High', 'Low', 'Open', 'Volume'], dtype='object')\n"
          ]
        }
      ],
      "source": [
        "# Clean column names by removing 'EURUSD=X'\n",
        "data.columns = data.columns.str.replace(r'EURUSD=X', '', regex=True)\n",
        "data.columns = data.columns.str.strip()  # Remove any extra spaces\n",
        "\n",
        "print(data.columns)\n"
      ]
    },
    {
      "cell_type": "markdown",
      "metadata": {
        "id": "f50WCIl1iYek"
      },
      "source": [
        "feature engineering"
      ]
    },
    {
      "cell_type": "code",
      "execution_count": null,
      "metadata": {
        "colab": {
          "base_uri": "https://localhost:8080/"
        },
        "id": "QMCxPDKtaKsf",
        "outputId": "5bd72fca-46ba-4eea-c401-21c725503cce"
      },
      "outputs": [
        {
          "output_type": "stream",
          "name": "stdout",
          "text": [
            "SMA50: Date\n",
            "2010-01-01 00:00:00+00:00         NaN\n",
            "2010-01-04 00:00:00+00:00         NaN\n",
            "2010-01-05 00:00:00+00:00         NaN\n",
            "2010-01-06 00:00:00+00:00         NaN\n",
            "2010-01-07 00:00:00+00:00         NaN\n",
            "2010-01-08 00:00:00+00:00         NaN\n",
            "2010-01-11 00:00:00+00:00         NaN\n",
            "2010-01-12 00:00:00+00:00         NaN\n",
            "2010-01-13 00:00:00+00:00         NaN\n",
            "2010-01-14 00:00:00+00:00         NaN\n",
            "2010-01-15 00:00:00+00:00         NaN\n",
            "2010-01-18 00:00:00+00:00         NaN\n",
            "2010-01-19 00:00:00+00:00         NaN\n",
            "2010-01-20 00:00:00+00:00         NaN\n",
            "2010-01-21 00:00:00+00:00         NaN\n",
            "2010-01-22 00:00:00+00:00         NaN\n",
            "2010-01-25 00:00:00+00:00         NaN\n",
            "2010-01-26 00:00:00+00:00         NaN\n",
            "2010-01-27 00:00:00+00:00         NaN\n",
            "2010-01-28 00:00:00+00:00         NaN\n",
            "2010-01-29 00:00:00+00:00         NaN\n",
            "2010-02-01 00:00:00+00:00         NaN\n",
            "2010-02-02 00:00:00+00:00         NaN\n",
            "2010-02-03 00:00:00+00:00         NaN\n",
            "2010-02-04 00:00:00+00:00         NaN\n",
            "2010-02-05 00:00:00+00:00         NaN\n",
            "2010-02-08 00:00:00+00:00         NaN\n",
            "2010-02-09 00:00:00+00:00         NaN\n",
            "2010-02-10 00:00:00+00:00         NaN\n",
            "2010-02-11 00:00:00+00:00         NaN\n",
            "2010-02-12 00:00:00+00:00         NaN\n",
            "2010-02-15 00:00:00+00:00         NaN\n",
            "2010-02-16 00:00:00+00:00         NaN\n",
            "2010-02-17 00:00:00+00:00         NaN\n",
            "2010-02-18 00:00:00+00:00         NaN\n",
            "2010-02-19 00:00:00+00:00         NaN\n",
            "2010-02-22 00:00:00+00:00         NaN\n",
            "2010-02-23 00:00:00+00:00         NaN\n",
            "2010-02-24 00:00:00+00:00         NaN\n",
            "2010-02-25 00:00:00+00:00         NaN\n",
            "2010-02-26 00:00:00+00:00         NaN\n",
            "2010-03-01 00:00:00+00:00         NaN\n",
            "2010-03-02 00:00:00+00:00         NaN\n",
            "2010-03-03 00:00:00+00:00         NaN\n",
            "2010-03-04 00:00:00+00:00         NaN\n",
            "2010-03-05 00:00:00+00:00         NaN\n",
            "2010-03-08 00:00:00+00:00         NaN\n",
            "2010-03-09 00:00:00+00:00         NaN\n",
            "2010-03-10 00:00:00+00:00         NaN\n",
            "2010-03-11 00:00:00+00:00    1.392265\n",
            "2010-03-12 00:00:00+00:00    1.391025\n",
            "2010-03-15 00:00:00+00:00    1.389532\n",
            "2010-03-16 00:00:00+00:00    1.388338\n",
            "2010-03-17 00:00:00+00:00    1.387006\n",
            "2010-03-18 00:00:00+00:00    1.385598\n",
            "2010-03-19 00:00:00+00:00    1.383850\n",
            "2010-03-22 00:00:00+00:00    1.381961\n",
            "2010-03-23 00:00:00+00:00    1.379944\n",
            "2010-03-24 00:00:00+00:00    1.377558\n",
            "2010-03-25 00:00:00+00:00    1.375173\n",
            "Name: SMA50, dtype: float64\n",
            "SMA50 NaN counts: 49\n",
            "EMA50: Date\n",
            "2010-01-01 00:00:00+00:00    1.438994\n",
            "2010-01-04 00:00:00+00:00    1.439127\n",
            "2010-01-05 00:00:00+00:00    1.439028\n",
            "2010-01-06 00:00:00+00:00    1.439082\n",
            "2010-01-07 00:00:00+00:00    1.438797\n",
            "2010-01-08 00:00:00+00:00    1.438887\n",
            "2010-01-11 00:00:00+00:00    1.439367\n",
            "2010-01-12 00:00:00+00:00    1.439692\n",
            "2010-01-13 00:00:00+00:00    1.440190\n",
            "2010-01-14 00:00:00+00:00    1.440575\n",
            "2010-01-15 00:00:00+00:00    1.440517\n",
            "2010-01-18 00:00:00+00:00    1.440523\n",
            "2010-01-19 00:00:00+00:00    1.440036\n",
            "2010-01-20 00:00:00+00:00    1.438898\n",
            "2010-01-21 00:00:00+00:00    1.437753\n",
            "2010-01-22 00:00:00+00:00    1.436826\n",
            "2010-01-25 00:00:00+00:00    1.435971\n",
            "2010-01-26 00:00:00+00:00    1.434883\n",
            "2010-01-27 00:00:00+00:00    1.433636\n",
            "2010-01-28 00:00:00+00:00    1.432192\n",
            "2010-01-29 00:00:00+00:00    1.430408\n",
            "2010-02-01 00:00:00+00:00    1.428929\n",
            "2010-02-02 00:00:00+00:00    1.427701\n",
            "2010-02-03 00:00:00+00:00    1.426227\n",
            "2010-02-04 00:00:00+00:00    1.424198\n",
            "2010-02-05 00:00:00+00:00    1.421995\n",
            "2010-02-08 00:00:00+00:00    1.419778\n",
            "2010-02-09 00:00:00+00:00    1.418148\n",
            "2010-02-10 00:00:00+00:00    1.416468\n",
            "2010-02-11 00:00:00+00:00    1.414575\n",
            "2010-02-12 00:00:00+00:00    1.412571\n",
            "2010-02-15 00:00:00+00:00    1.410522\n",
            "2010-02-16 00:00:00+00:00    1.409196\n",
            "2010-02-17 00:00:00+00:00    1.407294\n",
            "2010-02-18 00:00:00+00:00    1.404896\n",
            "2010-02-19 00:00:00+00:00    1.403194\n",
            "2010-02-22 00:00:00+00:00    1.401522\n",
            "2010-02-23 00:00:00+00:00    1.399608\n",
            "2010-02-24 00:00:00+00:00    1.397832\n",
            "2010-02-25 00:00:00+00:00    1.396097\n",
            "2010-02-26 00:00:00+00:00    1.394803\n",
            "2010-03-01 00:00:00+00:00    1.393290\n",
            "2010-03-02 00:00:00+00:00    1.392065\n",
            "2010-03-03 00:00:00+00:00    1.391206\n",
            "2010-03-04 00:00:00+00:00    1.389920\n",
            "2010-03-05 00:00:00+00:00    1.388860\n",
            "2010-03-08 00:00:00+00:00    1.387795\n",
            "2010-03-09 00:00:00+00:00    1.386732\n",
            "2010-03-10 00:00:00+00:00    1.385854\n",
            "2010-03-11 00:00:00+00:00    1.385174\n",
            "2010-03-12 00:00:00+00:00    1.384853\n",
            "2010-03-15 00:00:00+00:00    1.384183\n",
            "2010-03-16 00:00:00+00:00    1.383896\n",
            "2010-03-17 00:00:00+00:00    1.383502\n",
            "2010-03-18 00:00:00+00:00    1.382635\n",
            "2010-03-19 00:00:00+00:00    1.381500\n",
            "2010-03-22 00:00:00+00:00    1.380527\n",
            "2010-03-23 00:00:00+00:00    1.379205\n",
            "2010-03-24 00:00:00+00:00    1.377397\n",
            "2010-03-25 00:00:00+00:00    1.375566\n",
            "Name: EMA50, dtype: float64\n",
            "EMA50 NaN counts: 0\n"
          ]
        }
      ],
      "source": [
        "# Calculate 50-day and 200-day SMA and EMA\n",
        "data['SMA50'] = data['Close'].rolling(window=50).mean()\n",
        "data['SMA200'] = data['Close'].rolling(window=200).mean()\n",
        "\n",
        "# Check results\n",
        "print(\"SMA50:\", data['SMA50'].head(60))  # Display first 60 rowsa\n",
        "\n",
        "# Check for empty or NaN values in SMA\n",
        "print(\"SMA50 NaN counts:\", data['SMA50'].isna().sum())\n",
        "\n",
        "# Calculate EMA (50 and 200-day)\n",
        "data['EMA50'] = data['Close'].ewm(span=50, adjust=False).mean()\n",
        "data['EMA200'] = data['Close'].ewm(span=200, adjust=False).mean()\n",
        "\n",
        "# Check results for EMA\n",
        "print(\"EMA50:\", data['EMA50'].head(60))  # Display first 60 rows\n",
        "\n",
        "# Check for empty or NaN values in EMA\n",
        "print(\"EMA50 NaN counts:\", data['EMA50'].isna().sum())\n"
      ]
    },
    {
      "cell_type": "code",
      "execution_count": null,
      "metadata": {
        "id": "IXoJtlwAfCtp"
      },
      "outputs": [],
      "source": [
        "data.dropna(subset=['SMA50'], inplace=True)\n"
      ]
    },
    {
      "cell_type": "markdown",
      "metadata": {
        "id": "yd5gj9xZiQ5O"
      },
      "source": [
        "feature scaling and model training\n",
        "\n",
        "\n"
      ]
    },
    {
      "cell_type": "code",
      "execution_count": null,
      "metadata": {
        "id": "a8gKbCt_nTVq"
      },
      "outputs": [],
      "source": [
        "\n",
        "\n",
        "data.loc[:, 'SMA_5'] = data['Close'].rolling(window=5).mean()\n",
        "data.loc[:, 'SMA_10'] = data['Close'].rolling(window=10).mean()\n",
        "data.loc[:, 'SMA_20'] = data['Close'].rolling(window=20).mean()\n",
        "\n",
        "data.loc[:, 'EMA_5'] = data['Close'].ewm(span=5, adjust=False).mean()\n",
        "data.loc[:, 'EMA_10'] = data['Close'].ewm(span=10, adjust=False).mean()\n",
        "\n",
        "data.loc[:, 'ROC_5'] = data['Close'].pct_change(periods=5)\n",
        "data.loc[:, 'Price_Change'] = data['Close'].pct_change()\n",
        "data.loc[:, 'Lag_1'] = data['Close'].shift(1)\n",
        "data.loc[:, 'Volatility_5'] = data['Close'].rolling(window=5).std()\n",
        "data.loc[:, 'Cumulative_Returns'] = (1 + data['Price_Change']).cumprod() - 1\n",
        "data.loc[:, 'Volume_SMA_7'] = data['Volume'].rolling(window=7).mean()\n",
        "\n",
        "data = data.dropna()\n",
        "\n",
        "X = data[['SMA_5', 'SMA_10', 'SMA_20', 'EMA_5', 'EMA_10', 'ROC_5', 'Price_Change', 'Lag_1', 'Volatility_5', 'Cumulative_Returns', 'Volume_SMA_7']]\n",
        "y = data['Close']\n",
        "\n",
        "# Feature Scaling\n",
        "scaler = StandardScaler()\n",
        "X_scaled = scaler.fit_transform(X)\n",
        "\n"
      ]
    },
    {
      "cell_type": "markdown",
      "metadata": {
        "id": "dhdRIJdGJyDG"
      },
      "source": [
        "model training"
      ]
    },
    {
      "source": [
        "# Prepare feature set and target variable\n",
        "X = data[['SMA_5', 'SMA_10', 'SMA_20', 'EMA_5', 'EMA_10', 'ROC_5', 'Price_Change',\n",
        "          'Lag_1', 'Volatility_5', 'Cumulative_Returns', 'Volume_SMA_7']]\n",
        "y = data['Close']\n",
        "\n",
        "# Scale features\n",
        "scaler = StandardScaler()\n",
        "X_scaled = scaler.fit_transform(X)\n",
        "\n",
        "# Split data into train and test sets\n",
        "X_train, X_test, y_train, y_test = train_test_split(X_scaled, y, test_size=0.2, random_state=42)\n",
        "\n",
        "# Define the model\n",
        "svm_model = SVR()\n",
        "\n",
        "# Define hyperparameters to search\n",
        "param_grid = {\n",
        "    'kernel': ['linear', 'rbf', 'poly'],  # Different kernels to try\n",
        "    'C': [0.1, 1, 10, 100],               # Regularization strength\n",
        "    'gamma': ['scale', 'auto', 0.01, 0.1] # Gamma values\n",
        "}\n",
        "\n",
        "# Set up GridSearchCV\n",
        "grid_search = GridSearchCV(estimator=svm_model, param_grid=param_grid,\n",
        "                           cv=5, n_jobs=-1, verbose=1, scoring='neg_mean_squared_error')\n",
        "\n",
        "# Fit GridSearchCV to the training data\n",
        "grid_search.fit(X_train, y_train)\n",
        "\n",
        "# Best parameters found by GridSearchCV\n",
        "print(\"Best Parameters: \", grid_search.best_params_)\n",
        "\n",
        "# Get the best model from GridSearchCV\n",
        "best_model = grid_search.best_estimator_\n",
        "\n",
        "# Now that the model is fitted, predict on the test set\n",
        "y_pred = best_model.predict(X_test)\n",
        "\n",
        "# Evaluate the optimized model\n",
        "mse = mean_squared_error(y_test, y_pred)\n",
        "# Use best_model instead of svm_model for calculating the score\n",
        "r2 = best_model.score(X_test, y_test)\n",
        "\n",
        "print(f\"Mean Squared Error: {mse}\")\n",
        "print(f\"R^2 Score: {r2}\")"
      ],
      "cell_type": "code",
      "metadata": {
        "colab": {
          "base_uri": "https://localhost:8080/"
        },
        "id": "TEP0Vq1ijGr_",
        "outputId": "cbfc5320-f4b8-4da0-f5fd-a855f47b7796"
      },
      "execution_count": null,
      "outputs": [
        {
          "output_type": "stream",
          "name": "stdout",
          "text": [
            "Fitting 5 folds for each of 48 candidates, totalling 240 fits\n",
            "Best Parameters:  {'C': 1, 'gamma': 0.01, 'kernel': 'rbf'}\n",
            "Mean Squared Error: 0.0011696137585869876\n",
            "R^2 Score: 0.909596645606535\n"
          ]
        }
      ]
    },
    {
      "cell_type": "markdown",
      "metadata": {
        "id": "qUmMsYy2KtHK"
      },
      "source": []
    },
    {
      "cell_type": "markdown",
      "metadata": {
        "id": "SL18ftDBi_zZ"
      },
      "source": [
        "checking for fitting"
      ]
    },
    {
      "source": [
        "\n",
        "# Use the best model found by GridSearchCV\n",
        "best_model = grid_search.best_estimator_\n",
        "\n",
        "# Predicting on training data\n",
        "y_train_pred = best_model.predict(X_train)  # Changed from svm_model to best_model\n",
        "train_mse = mean_squared_error(y_train, y_train_pred)\n",
        "\n",
        "# Predicting on testing data\n",
        "y_test_pred = best_model.predict(X_test)  # Changed from svm_model to best_model\n",
        "test_mse = mean_squared_error(y_test, y_test_pred)\n",
        "\n",
        "print(f'Training MSE: {train_mse}')\n",
        "print(f'Test MSE: {test_mse}')"
      ],
      "cell_type": "code",
      "metadata": {
        "colab": {
          "base_uri": "https://localhost:8080/"
        },
        "id": "NiGU28byjht1",
        "outputId": "366e2a1e-6ffc-4bcd-999e-2cda1daeb0f6"
      },
      "execution_count": null,
      "outputs": [
        {
          "output_type": "stream",
          "name": "stdout",
          "text": [
            "Training MSE: 0.00112697683409878\n",
            "Test MSE: 0.0011696137585869876\n"
          ]
        }
      ]
    },
    {
      "cell_type": "markdown",
      "metadata": {
        "id": "gm1BAfaCKygx"
      },
      "source": [
        "signal generation"
      ]
    },
    {
      "cell_type": "code",
      "source": [
        "svm_model.fit(X_train, y_train)\n",
        "\n",
        "X_scaled_full = scaler.transform(data[['SMA_5', 'SMA_10', 'SMA_20', 'EMA_5', 'EMA_10', 'ROC_5', 'Price_Change',\n",
        "                                      'Lag_1', 'Volatility_5', 'Cumulative_Returns', 'Volume_SMA_7']])\n",
        "data['SVM_Prediction'] = svm_model.predict(X_scaled_full)\n",
        "\n",
        "# Default signal\n",
        "data['Signal'] = 0\n",
        "\n",
        "# Generate Buy signal: SMA_5 > SMA_20 and SVM Prediction indicates an upward trend\n",
        "data.loc[(data['SMA_5'] > data['SMA_20']) & (data['SVM_Prediction'] > data['SVM_Prediction'].shift(1)), 'Signal'] = 1\n",
        "\n",
        "# Generate Sell signal: SMA_5 < SMA_20 and SVM Prediction indicates a downward trend\n",
        "data.loc[(data['SMA_5'] < data['SMA_20']) & (data['SVM_Prediction'] < data['SVM_Prediction'].shift(1)), 'Signal'] = -1\n",
        "\n",
        "# Add signal changes (Position)\n",
        "data['Position'] = data['Signal'].diff()\n",
        "\n",
        "# Print generated signals\n",
        "print(data[['Close', 'SMA_5', 'SMA_10', 'SMA_20', 'EMA_5', 'EMA_10', 'ROC_5', 'Price_Change',\n",
        "            'Lag_1', 'Volatility_5', 'Cumulative_Returns', 'Volume_SMA_7', 'Signal', 'Position', 'SVM_Prediction']].tail())\n"
      ],
      "metadata": {
        "colab": {
          "base_uri": "https://localhost:8080/"
        },
        "id": "QB9RNV971kyR",
        "outputId": "f326a183-b20e-43b8-8829-f14bddf40136"
      },
      "execution_count": null,
      "outputs": [
        {
          "output_type": "stream",
          "name": "stdout",
          "text": [
            "                              Close     SMA_5    SMA_10    SMA_20     EMA_5  \\\n",
            "Date                                                                          \n",
            "2024-11-01 00:00:00+00:00  1.088613  1.083586  1.082677  1.087408  1.084895   \n",
            "2024-11-04 00:00:00+00:00  1.087453  1.085145  1.082736  1.086908  1.085748   \n",
            "2024-11-05 00:00:00+00:00  1.087406  1.086291  1.083298  1.086399  1.086300   \n",
            "2024-11-06 00:00:00+00:00  1.093446  1.088567  1.084670  1.086193  1.088682   \n",
            "2024-11-07 00:00:00+00:00  1.073307  1.086045  1.084196  1.085142  1.083557   \n",
            "\n",
            "                             EMA_10     ROC_5  Price_Change     Lag_1  \\\n",
            "Date                                                                    \n",
            "2024-11-01 00:00:00+00:00  1.084795  0.005726      0.002482  1.085918   \n",
            "2024-11-04 00:00:00+00:00  1.085278  0.007221     -0.001066  1.088613   \n",
            "2024-11-05 00:00:00+00:00  1.085665  0.005296     -0.000044  1.087453   \n",
            "2024-11-06 00:00:00+00:00  1.087080  0.010519      0.005555  1.087406   \n",
            "2024-11-07 00:00:00+00:00  1.084576 -0.011613     -0.018418  1.093446   \n",
            "\n",
            "                           Volatility_5  Cumulative_Returns  Volume_SMA_7  \\\n",
            "Date                                                                        \n",
            "2024-11-01 00:00:00+00:00      0.003609           -0.204540           0.0   \n",
            "2024-11-04 00:00:00+00:00      0.003141           -0.205387           0.0   \n",
            "2024-11-05 00:00:00+00:00      0.002549           -0.205422           0.0   \n",
            "2024-11-06 00:00:00+00:00      0.002890           -0.201008           0.0   \n",
            "2024-11-07 00:00:00+00:00      0.007541           -0.215724           0.0   \n",
            "\n",
            "                           Signal  Position  SVM_Prediction  \n",
            "Date                                                         \n",
            "2024-11-01 00:00:00+00:00      -1      -1.0        1.136646  \n",
            "2024-11-04 00:00:00+00:00       0       1.0        1.140874  \n",
            "2024-11-05 00:00:00+00:00       0       0.0        1.142441  \n",
            "2024-11-06 00:00:00+00:00       1       1.0        1.147069  \n",
            "2024-11-07 00:00:00+00:00       1       0.0        1.153847  \n"
          ]
        }
      ]
    },
    {
      "source": [
        "feature_names = scaler.get_feature_names_out()\n",
        "print(feature_names)"
      ],
      "cell_type": "code",
      "metadata": {
        "colab": {
          "base_uri": "https://localhost:8080/"
        },
        "id": "n2v456Gr2a3K",
        "outputId": "fabf430d-139c-4a3f-b5de-6e36ce14bde2"
      },
      "execution_count": null,
      "outputs": [
        {
          "output_type": "stream",
          "name": "stdout",
          "text": [
            "['SMA_5' 'SMA_10' 'SMA_20' 'EMA_5' 'EMA_10' 'ROC_5' 'Price_Change' 'Lag_1'\n",
            " 'Volatility_5' 'Cumulative_Returns' 'Volume_SMA_7']\n"
          ]
        }
      ]
    },
    {
      "cell_type": "code",
      "execution_count": null,
      "metadata": {
        "id": "Gwr1wOOQLR2S"
      },
      "outputs": [],
      "source": [
        "data['Predicted_Close'] = svm_model.predict(scaler.transform(X))\n",
        "data['Predicted_Signal'] = 0\n",
        "data.loc[data['Predicted_Close'] > data['Close'].shift(1), 'Predicted_Signal'] = 1\n",
        "data.loc[data['Predicted_Close'] < data['Close'].shift(1), 'Predicted_Signal'] = -1\n",
        "data['Predicted_Position'] = data['Predicted_Signal'].diff()\n"
      ]
    },
    {
      "cell_type": "code",
      "execution_count": null,
      "metadata": {
        "colab": {
          "base_uri": "https://localhost:8080/",
          "height": 539
        },
        "id": "v-OI7Uc1K3y5",
        "outputId": "f977e02e-c8aa-41e1-f702-8663ce6de94b"
      },
      "outputs": [
        {
          "output_type": "display_data",
          "data": {
            "text/plain": [
              "<Figure size 1400x700 with 1 Axes>"
            ],
            "image/png": "[encoded data removed]"
          },
          "metadata": {}
        }
      ],
      "source": [
        "\n",
        "# Visualize Buy/Sell Signals\n",
        "plt.figure(figsize=(14, 7))\n",
        "plt.plot(data['Close'], label='Actual Close Price', alpha=0.5)\n",
        "plt.plot(data['Predicted_Close'], label='Predicted Close Price', alpha=0.75)\n",
        "plt.scatter(data.index[data['Predicted_Signal'] == 1], data['Close'][data['Predicted_Signal'] == 1],\n",
        "            label='Buy Signal', marker='^', color='green')\n",
        "plt.scatter(data.index[data['Predicted_Signal'] == -1], data['Close'][data['Predicted_Signal'] == -1],\n",
        "            label='Sell Signal', marker='v', color='red')\n",
        "plt.title('Trading Signals')\n",
        "plt.xlabel('Date')\n",
        "plt.ylabel('Price')\n",
        "plt.legend()\n",
        "plt.grid()\n",
        "plt.show()\n"
      ]
    },
    {
      "cell_type": "markdown",
      "metadata": {
        "id": "HvXGG1kUMceW"
      },
      "source": [
        "postion sizing"
      ]
    },
    {
      "cell_type": "code",
      "execution_count": null,
      "metadata": {
        "id": "A55QO52GMeYt",
        "colab": {
          "base_uri": "https://localhost:8080/"
        },
        "outputId": "d5c60c41-c7d8-47a6-cb22-b52c48adf0c0"
      },
      "outputs": [
        {
          "output_type": "stream",
          "name": "stdout",
          "text": [
            "                              Close  Signal  Position_Size  SVM_Prediction  \\\n",
            "Date                                                                         \n",
            "2024-11-01 00:00:00+00:00  1.088613      -1   -9186.000621        1.136646   \n",
            "2024-11-04 00:00:00+00:00  1.087453       0       0.020000        1.140874   \n",
            "2024-11-05 00:00:00+00:00  1.087406       0       0.020000        1.142441   \n",
            "2024-11-06 00:00:00+00:00  1.093446       1    9145.399902        1.147069   \n",
            "2024-11-07 00:00:00+00:00  1.073307       1    9316.999482        1.153847   \n",
            "\n",
            "                           Stop_Loss  Take_Profit  Exit  \n",
            "Date                                                     \n",
            "2024-11-01 00:00:00+00:00   1.066841     1.143044     0  \n",
            "2024-11-04 00:00:00+00:00   1.065704     1.141826     0  \n",
            "2024-11-05 00:00:00+00:00   1.065658     1.141776     0  \n",
            "2024-11-06 00:00:00+00:00   1.071577     1.148118     0  \n",
            "2024-11-07 00:00:00+00:00   1.051841     1.126972     0  \n"
          ]
        }
      ],
      "source": [
        "available_capital = 100000\n",
        "risk_per_trade = 0.10  # 10% of capital per trade\n",
        "capital_per_trade = available_capital * risk_per_trade\n",
        "\n",
        "# Set stop-loss and take-profit thresholds (as percentage of the asset's price)\n",
        "stop_loss_percentage = 0.02  # 2% stop-loss\n",
        "take_profit_percentage = 0.05  # 5% take-profit\n",
        "\n",
        "# Initialize position size to 0.02\n",
        "data['Position_Size'] = 0.02\n",
        "\n",
        "# Position size for Buy signals\n",
        "data.loc[data['Signal'] == 1, 'Position_Size'] = capital_per_trade / data['Close']\n",
        "\n",
        "# For Sell signals, position size is negative (opposite of Buy)\n",
        "data.loc[data['Signal'] == -1, 'Position_Size'] = -capital_per_trade / data['Close']\n",
        "\n",
        "# Integrate SVM predictions: Use a threshold to only take significant trades based on SVM predictions\n",
        "threshold = 0.01  # Only take trades when SVM predicts a significant change (1%)\n",
        "\n",
        "# Adjust position size for Buy signals if SVM prediction is positive and above threshold\n",
        "data.loc[(data['Signal'] == 1) &\n",
        "          (data['SVM_Prediction'] > data['SVM_Prediction'].shift(1)) &\n",
        "          (data['SVM_Prediction'].pct_change() > threshold), 'Position_Size'] = capital_per_trade / data['Close']\n",
        "\n",
        "# Adjust position size for Sell signals if SVM prediction is negative and below threshold\n",
        "data.loc[(data['Signal'] == -1) &\n",
        "          (data['SVM_Prediction'] < data['SVM_Prediction'].shift(1)) &\n",
        "          (data['SVM_Prediction'].pct_change() < -threshold), 'Position_Size'] = -capital_per_trade / data['Close']\n",
        "\n",
        "# Implement risk management: Set stop-loss and take-profit levels based on price change\n",
        "data['Stop_Loss'] = data['Close'] * (1 - stop_loss_percentage)\n",
        "data['Take_Profit'] = data['Close'] * (1 + take_profit_percentage)\n",
        "\n",
        "# Simulate trade exits based on stop-loss or take-profit conditions\n",
        "data['Exit'] = 0  # Default no exit\n",
        "data.loc[data['Close'] <= data['Stop_Loss'], 'Exit'] = -1  # Exit if price hits stop-loss (sell)\n",
        "data.loc[data['Close'] >= data['Take_Profit'], 'Exit'] = 1  # Exit if price hits take-profit (sell)\n",
        "\n",
        "print(data[['Close', 'Signal', 'Position_Size', 'SVM_Prediction', 'Stop_Loss', 'Take_Profit', 'Exit']].tail())\n"
      ]
    },
    {
      "cell_type": "markdown",
      "metadata": {
        "id": "7o5o-AP_MwqU"
      },
      "source": [
        "portfolio optimization"
      ]
    },
    {
      "cell_type": "markdown",
      "metadata": {
        "id": "EDcT-mujNaBx"
      },
      "source": [
        "drawdown"
      ]
    },
    {
      "cell_type": "code",
      "execution_count": null,
      "metadata": {
        "colab": {
          "base_uri": "https://localhost:8080/",
          "height": 586
        },
        "id": "dq5jWbU-cQ-w",
        "outputId": "2d80ac89-7f79-405e-984f-73277ec9c460"
      },
      "outputs": [
        {
          "output_type": "stream",
          "name": "stderr",
          "text": [
            "<ipython-input-29-36ab2c5a2399>:13: FutureWarning: Setting an item of incompatible dtype is deprecated and will raise an error in a future version of pandas. Value '10035.643053528858' has dtype incompatible with int64, please explicitly cast to a compatible dtype first.\n",
            "  data.loc[data.index[i], 'Portfolio_Value'] = data['Portfolio_Value'].iloc[i - 1] * (1 + data['Returns'].iloc[i])\n"
          ]
        },
        {
          "output_type": "display_data",
          "data": {
            "text/plain": [
              "<Figure size 1400x700 with 2 Axes>"
            ],
            "image/png": "[encoded data removed]"
          },
          "metadata": {}
        },
        {
          "output_type": "stream",
          "name": "stdout",
          "text": [
            "Maximum Drawdown: -3.37%\n",
            "The maximum drawdown of -3.37% is within the acceptable range.\n"
          ]
        }
      ],
      "source": [
        "\n",
        "# Initial capital\n",
        "initial_capital = 10000  # Starting portfolio value\n",
        "\n",
        "# Calculate Returns from Close price\n",
        "data['Returns'] = data['Close'].pct_change()\n",
        "\n",
        "# Initialize Portfolio Value column with initial capital\n",
        "data['Portfolio_Value'] = initial_capital\n",
        "\n",
        "# Loop through the signals and update portfolio value\n",
        "for i in range(1, len(data)):\n",
        "    if data['Signal'].iloc[i] == 1:  # Buy signal\n",
        "        data.loc[data.index[i], 'Portfolio_Value'] = data['Portfolio_Value'].iloc[i - 1] * (1 + data['Returns'].iloc[i])\n",
        "    elif data['Signal'].iloc[i] == -1:  # Sell signal\n",
        "        data.loc[data.index[i], 'Portfolio_Value'] = data['Portfolio_Value'].iloc[i - 1] * (1 - data['Returns'].iloc[i])\n",
        "    else:  # Hold position\n",
        "        data.loc[data.index[i], 'Portfolio_Value'] = data['Portfolio_Value'].iloc[i - 1]\n",
        "\n",
        "# Calculate Drawdown\n",
        "data['Peak'] = data['Portfolio_Value'].cummax()  # Track running maximum portfolio value\n",
        "data['Drawdown'] = (data['Portfolio_Value'] - data['Peak']) / data['Peak'] * 100  # Calculate drawdown as a percentage\n",
        "\n",
        "# Plot portfolio performance and drawdown\n",
        "plt.figure(figsize=(14, 7))\n",
        "\n",
        "# Plot portfolio value over time\n",
        "plt.subplot(2, 1, 1)\n",
        "plt.plot(data['Portfolio_Value'], label='Portfolio Value', color='blue')\n",
        "plt.title('Portfolio Value Over Time')\n",
        "plt.ylabel('Portfolio Value')\n",
        "plt.legend()\n",
        "\n",
        "# Plot drawdown over time\n",
        "plt.subplot(2, 1, 2)\n",
        "plt.plot(data['Drawdown'], label='Drawdown', color='red')\n",
        "plt.title('Drawdown Over Time')\n",
        "plt.ylabel('Drawdown (%)')\n",
        "plt.xlabel('Time')\n",
        "plt.legend()\n",
        "\n",
        "# Layout adjustment and display\n",
        "plt.tight_layout()\n",
        "plt.show()\n",
        "\n",
        "# Maximum drawdown\n",
        "max_drawdown = data['Drawdown'].min()\n",
        "print(f\"Maximum Drawdown: {max_drawdown:.2f}%\")\n",
        "\n",
        "# Define acceptable drawdown threshold (you can adjust this value)\n",
        "acceptable_drawdown_threshold = -6.0  # -6 is the maximum drawdown, i mean we are not settling for less\n",
        "\n",
        "# Evaluate whether the drawdown is acceptable\n",
        "if max_drawdown < acceptable_drawdown_threshold:\n",
        "    print(f\"The maximum drawdown of {max_drawdown:.2f}% exceeds the acceptable threshold of {acceptable_drawdown_threshold}%\")\n",
        "    print(\"Consider re-evaluating the portfolio strategy.\")\n",
        "else:\n",
        "    print(f\"The maximum drawdown of {max_drawdown:.2f}% is within the acceptable range.\")\n"
      ]
    },
    {
      "cell_type": "code",
      "execution_count": null,
      "metadata": {
        "colab": {
          "base_uri": "https://localhost:8080/",
          "height": 211
        },
        "id": "36uqjhlXf3ky",
        "outputId": "7f6581e6-58fc-45ea-9aac-b6177e408f29"
      },
      "outputs": [
        {
          "output_type": "error",
          "ename": "NameError",
          "evalue": "name 'data' is not defined",
          "traceback": [
            "\u001b[0;31m---------------------------------------------------------------------------\u001b[0m",
            "\u001b[0;31mNameError\u001b[0m                                 Traceback (most recent call last)",
            "\u001b[0;32m<ipython-input-1-90721e7e97f0>\u001b[0m in \u001b[0;36m<cell line: 4>\u001b[0;34m()\u001b[0m\n\u001b[1;32m      2\u001b[0m \u001b[0;34m\u001b[0m\u001b[0m\n\u001b[1;32m      3\u001b[0m \u001b[0;31m# Calculate Returns from Close price\u001b[0m\u001b[0;34m\u001b[0m\u001b[0;34m\u001b[0m\u001b[0m\n\u001b[0;32m----> 4\u001b[0;31m \u001b[0mdata\u001b[0m\u001b[0;34m[\u001b[0m\u001b[0;34m'Returns'\u001b[0m\u001b[0;34m]\u001b[0m \u001b[0;34m=\u001b[0m \u001b[0mdata\u001b[0m\u001b[0;34m[\u001b[0m\u001b[0;34m'Close'\u001b[0m\u001b[0;34m]\u001b[0m\u001b[0;34m.\u001b[0m\u001b[0mpct_change\u001b[0m\u001b[0;34m(\u001b[0m\u001b[0;34m)\u001b[0m\u001b[0;34m\u001b[0m\u001b[0;34m\u001b[0m\u001b[0m\n\u001b[0m\u001b[1;32m      5\u001b[0m \u001b[0;34m\u001b[0m\u001b[0m\n\u001b[1;32m      6\u001b[0m \u001b[0;31m# Initialize Portfolio Value column with initial capital\u001b[0m\u001b[0;34m\u001b[0m\u001b[0;34m\u001b[0m\u001b[0m\n",
            "\u001b[0;31mNameError\u001b[0m: name 'data' is not defined"
          ]
        }
      ],
      "source": [
        "\n",
        "initial_capital = 100000  # Starting portfolio value\n",
        "\n",
        "# Calculate Returns from Close price\n",
        "data['Returns'] = data['Close'].pct_change()\n",
        "\n",
        "# Initialize Portfolio Value column with initial capital\n",
        "data['Portfolio_Value'] = initial_capital\n",
        "\n",
        "# Loop through the signals and update portfolio value\n",
        "for i in range(1, len(data)):\n",
        "    if data['Signal'].iloc[i] == 1:  # Buy signal\n",
        "        data.loc[data.index[i], 'Portfolio_Value'] = data['Portfolio_Value'].iloc[i - 1] * (1 + data['Returns'].iloc[i])\n",
        "    elif data['Signal'].iloc[i] == -1:  # Sell signal\n",
        "        data.loc[data.index[i], 'Portfolio_Value'] = data['Portfolio_Value'].iloc[i - 1] * (1 - data['Returns'].iloc[i])\n",
        "    else:  # Hold position\n",
        "        data.loc[data.index[i], 'Portfolio_Value'] = data['Portfolio_Value'].iloc[i - 1]\n",
        "\n",
        "# Calculate Drawdown\n",
        "data['Peak'] = data['Portfolio_Value'].cummax()  # Track running maximum portfolio value\n",
        "data['Drawdown'] = (data['Portfolio_Value'] - data['Peak']) / data['Peak'] * 100  # Calculate drawdown as a percentage\n",
        "\n",
        "# Plot portfolio performance and drawdown\n",
        "plt.figure(figsize=(14, 7))\n",
        "\n",
        "# Plot portfolio value over time\n",
        "plt.subplot(2, 1, 1)\n",
        "plt.plot(data['Portfolio_Value'], label='Portfolio Value', color='blue')\n",
        "plt.title('Portfolio Value Over Time')\n",
        "plt.ylabel('Portfolio Value')\n",
        "plt.legend()\n",
        "\n",
        "# Plot drawdown over time\n",
        "plt.subplot(2, 1, 2)\n",
        "plt.plot(data['Drawdown'], label='Drawdown', color='red')\n",
        "plt.title('Drawdown Over Time')\n",
        "plt.ylabel('Drawdown (%)')\n",
        "plt.xlabel('Time')\n",
        "plt.legend()\n",
        "\n",
        "# Layout adjustment and display\n",
        "plt.tight_layout()\n",
        "plt.show()\n",
        "\n",
        "# Maximum drawdown\n",
        "max_drawdown = data['Drawdown'].min()\n",
        "print(f\"Maximum Drawdown: {max_drawdown:.2f}%\")\n",
        "\n",
        "# Define acceptable drawdown threshold (you can adjust this value)\n",
        "acceptable_drawdown_threshold = -6.0\n",
        "\n",
        "# Evaluate whether the drawdown is acceptable\n",
        "if max_drawdown < acceptable_drawdown_threshold:\n",
        "    print(f\"The maximum drawdown of {max_drawdown:.2f}% exceeds the acceptable threshold of {acceptable_drawdown_threshold}%\")\n",
        "    print(\"Consider re-evaluating the portfolio strategy.\")\n",
        "else:\n",
        "    print(f\"The maximum drawdown of {max_drawdown:.2f}% is within the acceptable range.\")\n"
      ]
    },
    {
      "cell_type": "code",
      "source": [
        "with open('svm_model.pkl', 'wb') as file:  # Use 'wb' for writing binary data\n",
        "    pickle.dump(svm_model, file)"
      ],
      "metadata": {
        "id": "JLdxhlFUChLE"
      },
      "execution_count": null,
      "outputs": []
    },
    {
      "cell_type": "markdown",
      "metadata": {
        "id": "mQQZMArylTFu"
      },
      "source": [
        "backtesting"
      ]
    },
    {
      "cell_type": "code",
      "execution_count": null,
      "metadata": {
        "id": "kY3q2gzQJC-p"
      },
      "outputs": [],
      "source": [
        "data['Portfolio_Value'] = float(initial_capital)\n"
      ]
    },
    {
      "cell_type": "markdown",
      "metadata": {
        "id": "LCWP69C2lWGU"
      },
      "source": [
        "more backtest"
      ]
    },
    {
      "cell_type": "code",
      "source": [],
      "metadata": {
        "id": "iZC35X6xCspk"
      },
      "execution_count": null,
      "outputs": []
    },
    {
      "cell_type": "code",
      "source": [
        "\n",
        "with open('svm_model.pkl', 'rb') as file:\n",
        "    svm_model = pickle.load(file)\n",
        "\n",
        "try:\n",
        "    print(svm_model.feature_names_in_)\n",
        "except AttributeError:\n",
        "    print(\"Feature names not available in the model.\")"
      ],
      "metadata": {
        "id": "0BskSJTyKATO",
        "colab": {
          "base_uri": "https://localhost:8080/"
        },
        "outputId": "59d85c1a-ccab-484b-a78e-e7c0450cb706"
      },
      "execution_count": null,
      "outputs": [
        {
          "output_type": "stream",
          "name": "stdout",
          "text": [
            "Feature names not available in the model.\n"
          ]
        }
      ]
    },
    {
      "cell_type": "markdown",
      "metadata": {
        "id": "GsmLXp9xNp-w"
      },
      "source": [
        "lets try another approach, this one if fucked real bad!!!\n",
        "\n",
        "> Add blockquote\n",
        "\n"
      ]
    },
    {
      "source": [
        "model = joblib.load('/content/svm_model.pkl')\n",
        "\n",
        "# Define the backtest function\n",
        "def backtest_strategy(data, model, features):\n",
        "    \"\"\"\n",
        "    Backtests a trading strategy based on model predictions.\n",
        "\n",
        "    Args:\n",
        "        data (DataFrame): Historical price and feature data.\n",
        "        model: Pre-trained machine learning model.\n",
        "        features (list): List of feature names used for model prediction.\n",
        "\n",
        "    Returns:\n",
        "        DataFrame: Backtesting results, including portfolio value.\n",
        "    \"\"\"\n",
        "    # Get model predictions (signals)\n",
        "    data['Signal'] = model.predict(X)\n",
        "\n",
        "    # --- DEBUGGING ---\n",
        "    # Print the unique values of the 'Signal' column\n",
        "    print(\"Unique Signal Values:\", data['Signal'].unique())\n",
        "\n",
        "    # Check if all signal values are the same\n",
        "    if len(data['Signal'].unique()) == 1:\n",
        "        print(\"WARNING: Model is predicting the same signal for all data points.\")\n",
        "\n",
        "    # Check for extreme values or NaNs in the features\n",
        "    print(\"Feature Statistics:\")\n",
        "    print(data[features].describe())\n",
        "\n",
        "\n",
        "\n",
        "\n",
        "    return data"
      ],
      "cell_type": "code",
      "metadata": {
        "id": "NgbawvICVjW-"
      },
      "execution_count": null,
      "outputs": []
    },
    {
      "cell_type": "markdown",
      "metadata": {
        "id": "5GzixQlK6UGF"
      },
      "source": []
    },
    {
      "cell_type": "code",
      "execution_count": null,
      "metadata": {
        "id": "Ck5hOoEElQ_W",
        "colab": {
          "base_uri": "https://localhost:8080/"
        },
        "outputId": "820d332d-a977-4411-d3a8-656d7d45352c"
      },
      "outputs": [
        {
          "output_type": "stream",
          "name": "stdout",
          "text": [
            "Collecting backtrader\n",
            "  Downloading backtrader-1.9.78.123-py2.py3-none-any.whl.metadata (6.8 kB)\n",
            "Downloading backtrader-1.9.78.123-py2.py3-none-any.whl (419 kB)\n",
            "\u001b[?25l   \u001b[90m━━━━━━━━━━━━━━━━━━━━━━━━━━━━━━━━━━━━━━━━\u001b[0m \u001b[32m0.0/419.5 kB\u001b[0m \u001b[31m?\u001b[0m eta \u001b[36m-:--:--\u001b[0m\r\u001b[2K   \u001b[90m━━━━━━━━━━━━━━━━━━━━━━━━━━━━━━━━━━━━━━━━\u001b[0m \u001b[32m419.5/419.5 kB\u001b[0m \u001b[31m18.8 MB/s\u001b[0m eta \u001b[36m0:00:00\u001b[0m\n",
            "\u001b[?25hInstalling collected packages: backtrader\n",
            "Successfully installed backtrader-1.9.78.123\n"
          ]
        }
      ],
      "source": [
        "!pip install backtrader"
      ]
    },
    {
      "cell_type": "code",
      "execution_count": null,
      "metadata": {
        "id": "0aApP1uyuOw_",
        "colab": {
          "base_uri": "https://localhost:8080/"
        },
        "outputId": "3d9aec17-101a-4d73-84ef-39576784e0cf"
      },
      "outputs": [
        {
          "output_type": "stream",
          "name": "stdout",
          "text": [
            "Fetching EUR/USD historical data...\n",
            "Data saved to 'eur_usd_data.csv'\n",
            "               Open     High      Low    Close\n",
            "2024-12-03  1.05004  1.05308  1.04806  1.05185\n",
            "2024-12-02  1.05020  1.05042  1.04888  1.04888\n",
            "2024-12-01  1.05457  1.05457  1.04622  1.05451\n",
            "2024-11-28  1.05630  1.05955  1.05430  1.05630\n",
            "2024-11-27  1.05625  1.05652  1.05292  1.05625\n"
          ]
        }
      ],
      "source": [
        "\n",
        "# Alpha Vantage API key\n",
        "api_key = '91UDSD2MTGHUKD5J'\n",
        "\n",
        "# Initialize Alpha Vantage client\n",
        "fx = ForeignExchange(key=api_key)\n",
        "\n",
        "# Fetch daily data for EUR/USD\n",
        "print(\"Fetching EUR/USD historical data...\")\n",
        "data, meta_data = fx.get_currency_exchange_daily(from_symbol='EUR', to_symbol='USD', outputsize='full')\n",
        "\n",
        "# Convert to DataFrame\n",
        "df = pd.DataFrame(data).T  # Transpose for proper format\n",
        "df.columns = ['Open', 'High', 'Low', 'Close']  # Rename columns for clarity\n",
        "df.index = pd.to_datetime(df.index)  # Convert index to datetime\n",
        "\n",
        "# Ensure all columns are numeric\n",
        "df = df.apply(pd.to_numeric, errors='coerce')\n",
        "\n",
        "# Save to CSV\n",
        "csv_file = 'eur_usd_data.csv'\n",
        "df.to_csv(csv_file)\n",
        "print(f\"Data saved to '{csv_file}'\")\n",
        "\n",
        "# Preview the DataFrame\n",
        "print(df.head())\n"
      ]
    },
    {
      "cell_type": "code",
      "source": [
        "\n",
        "\n",
        "# Generate synthetic data\n",
        "np.random.seed(42)\n",
        "dates = pd.date_range(start=\"2023-01-01\", periods=500, freq=\"D\")\n",
        "prices = 1.05 + np.cumsum(np.random.normal(0, 0.002, size=len(dates)))\n",
        "\n",
        "synthetic_data = pd.DataFrame({\n",
        "    'Open': prices + np.random.normal(0, 0.001, len(prices)),\n",
        "    'High': prices + np.random.normal(0, 0.002, len(prices)),\n",
        "    'Low': prices - np.random.normal(0, 0.002, len(prices)),\n",
        "    'Close': prices\n",
        "}, index=dates)\n",
        "\n",
        "synthetic_data.to_csv('synthetic_eur_usd.csv')\n",
        "print(\"Synthetic data saved to 'synthetic_eur_usd.csv'\")\n"
      ],
      "metadata": {
        "id": "oCm7cDiBeEEK",
        "colab": {
          "base_uri": "https://localhost:8080/"
        },
        "outputId": "09b087c6-b42b-4c23-bac1-243e040f3c0f"
      },
      "execution_count": null,
      "outputs": [
        {
          "output_type": "stream",
          "name": "stdout",
          "text": [
            "Synthetic data saved to 'synthetic_eur_usd.csv'\n"
          ]
        }
      ]
    },
    {
      "cell_type": "code",
      "source": [
        "\n",
        "\n",
        "\n",
        "def load_data(file_path):\n",
        "    \"\"\"\n",
        "    Loads EUR/USD data from a CSV file and prepares it for backtesting.\n",
        "    \"\"\"\n",
        "    data = pd.read_csv(file_path, index_col=0, parse_dates=True)\n",
        "    data = data[['Open', 'High', 'Low', 'Close']]\n",
        "    data['Returns'] = data['Close'].pct_change()\n",
        "    data.dropna(inplace=True)\n",
        "    return data\n",
        "\n",
        "def add_indicators(data):\n",
        "    \"\"\"\n",
        "    Adds moving average indicators and other features to the data.\n",
        "    \"\"\"\n",
        "    data['SMA_5'] = data['Close'].rolling(window=5).mean()\n",
        "    data['SMA_10'] = data['Close'].rolling(window=10).mean()\n",
        "    data['SMA_20'] = data['Close'].rolling(window=20).mean()\n",
        "    data['EMA_5'] = data['Close'].ewm(span=5, adjust=False).mean()\n",
        "    data['EMA_10'] = data['Close'].ewm(span=10, adjust=False).mean()\n",
        "    data['Momentum'] = data['Close'] - data['Close'].shift(5)\n",
        "    data['Volatility'] = data['Returns'].rolling(window=5).std()\n",
        "    data['ROC_5'] = data['Close'].pct_change(periods=5)\n",
        "    data['Price_Change'] = data['Close'].pct_change()\n",
        "    data['Lag_1'] = data['Close'].shift(1)\n",
        "    data['Cumulative_Returns'] = (1 + data['Returns']).cumprod() - 1\n",
        "    # Drop rows with missing values after feature creation\n",
        "    data.dropna(inplace=True)\n",
        "    return data\n",
        "\n",
        "def calculate_metrics(data):\n",
        "    \"\"\"\n",
        "    Calculates performance metrics for the backtesting results.\n",
        "    \"\"\"\n",
        "    # Portfolio metrics\n",
        "    data['Portfolio_Value'] = (1 + data['Strategy_Returns']).cumprod()\n",
        "    peak = data['Portfolio_Value'].cummax()\n",
        "    data['Drawdown'] = (data['Portfolio_Value'] - peak) / peak\n",
        "    max_drawdown = data['Drawdown'].min()\n",
        "\n",
        "    # Sharpe Ratio\n",
        "    excess_returns = data['Strategy_Returns']  # Assuming risk-free rate = 0\n",
        "    sharpe_ratio = np.sqrt(252) * excess_returns.mean() / excess_returns.std()\n",
        "\n",
        "    # Winning and losing trades\n",
        "    winning_trades = (data[data['Signal'] > 0]['Returns'] > 0).sum()\n",
        "    losing_trades = (data[data['Signal'] < 0]['Returns'] < 0).sum()\n",
        "    win_ratio = winning_trades / (winning_trades + losing_trades)\n",
        "    loss_ratio = losing_trades / (winning_trades + losing_trades)\n",
        "    total_winning_trades = winning_trades.sum()\n",
        "    total_losing_trades = losing_trades.sum()\n",
        "\n",
        "    return max_drawdown, sharpe_ratio, win_ratio, loss_ratio, total_winning_trades, total_losing_trades\n",
        "\n",
        "def generate_svm_signals(data, model):\n",
        "    \"\"\"\n",
        "    Generates trading signals using an SVM model.\n",
        "    \"\"\"\n",
        "    features = ['SMA_5', 'SMA_10', 'SMA_20', 'EMA_5', 'EMA_10', 'Momentum', 'Volatility',\n",
        "                'ROC_5', 'Price_Change', 'Lag_1', 'Cumulative_Returns']\n",
        "\n",
        "    # Ensure features exist in the data\n",
        "    X = data[features].fillna(0)\n",
        "    scaler = StandardScaler()\n",
        "    X_scaled = scaler.fit_transform(X)\n",
        "\n",
        "    # Generate predictions\n",
        "    data['Signal'] = model.predict(X_scaled)\n",
        "    return data\n",
        "\n",
        "def backtest_strategy(data, model_path):\n",
        "    \"\"\"\n",
        "    Backtests a strategy using a pre-trained SVM model and moving average signals.\n",
        "    \"\"\"\n",
        "    # Load the pre-trained model\n",
        "    with open(model_path, 'rb') as f:\n",
        "        model = pickle.load(f)\n",
        "\n",
        "    # Add indicators to the data\n",
        "    data = add_indicators(data)\n",
        "\n",
        "    # Generate signals using the SVM model\n",
        "    data = generate_svm_signals(data, model)\n",
        "\n",
        "    # Combine with moving average strategy\n",
        "    data['MA_Signal'] = np.where(data['SMA_5'] > data['SMA_20'], 1, -1)\n",
        "    data['Final_Signal'] = data['Signal'] * data['MA_Signal']\n",
        "\n",
        "    # Calculate strategy returns\n",
        "    data['Strategy_Returns'] = data['Returns'] * data['Final_Signal']\n",
        "\n",
        "    # Calculate performance metrics\n",
        "    max_drawdown, sharpe_ratio, win_ratio, loss_ratio, total_winning_trades, total_losing_trades  = calculate_metrics(data) # Unpack all 6 values here\n",
        "\n",
        "    # Print performance metrics\n",
        "    print(f\"Portfolio Maximum Drawdown: {max_drawdown:.2%}\")\n",
        "    print(f\"Portfolio Sharpe Ratio: {sharpe_ratio:.2f}\")\n",
        "    print(f\"Win Ratio: {win_ratio:.2%}\")\n",
        "    print(f\"Loss Ratio: {loss_ratio:.2%}\")\n",
        "\n",
        "    print(f\"Total Winning Trades: {total_winning_trades}\")\n",
        "    print(f\"Total Losing Trades: {total_losing_trades}\")\n",
        "\n",
        "    return data\n",
        "\n",
        "# Paths to data and model\n",
        "synthetic_data_path = '/content/synthetic_eur_usd.csv'\n",
        "real_data_path = '/content/eur_usd_data.csv'\n",
        "model_path = '/content/svm_model.pkl'\n",
        "\n",
        "# Choose dataset\n",
        "data = load_data(synthetic_data_path)  # Change to `real_data_path` for real data\n",
        "\n",
        "# Run backtesting\n",
        "backtest_results = backtest_strategy(data, model_path)\n",
        "\n",
        "# Save results\n",
        "backtest_results.to_csv('/content/backtest_results.csv')\n",
        "print(\"Backtesting completed. Results saved to '/content/backtest_results.csv'.\")\n"
      ],
      "metadata": {
        "id": "XaZh2rnmgf1D",
        "colab": {
          "base_uri": "https://localhost:8080/"
        },
        "outputId": "5b412b90-1a68-4ff4-823d-c8816afab938"
      },
      "execution_count": null,
      "outputs": [
        {
          "output_type": "stream",
          "name": "stdout",
          "text": [
            "Portfolio Maximum Drawdown: -2.92%\n",
            "Portfolio Sharpe Ratio: 0.71\n",
            "Win Ratio: 100.00%\n",
            "Loss Ratio: 0.00%\n",
            "Total Winning Trades: 246\n",
            "Total Losing Trades: 0\n",
            "Backtesting completed. Results saved to '/content/backtest_results.csv'.\n"
          ]
        }
      ]
    },
    {
      "cell_type": "markdown",
      "source": [
        "since the accuracy  and the win trades are low we are going to optimize our model using grid search cv"
      ],
      "metadata": {
        "id": "Kc3YmgKpkjZm"
      }
    },
    {
      "cell_type": "code",
      "source": [
        "\n",
        "\n",
        "# Fetch the data from Yahoo Finance (Euro/USD pair)\n",
        "ticker = \"EURUSD=X\"\n",
        "data = yf.download(ticker, start=\"2023-01-01\", end=\"2024-01-01\")\n",
        "data.drop_duplicates(inplace=True)\n",
        "\n",
        "\n",
        "# Calculate features\n",
        "data['Returns'] = data['Close'].pct_change()\n",
        "data['SMA_5'] = data['Close'].rolling(window=5).mean()\n",
        "data['SMA_10'] = data['Close'].rolling(window=10).mean()\n",
        "data['SMA_20'] = data['Close'].rolling(window=20).mean()\n",
        "data['EMA_5'] = data['Close'].ewm(span=5, adjust=False).mean()\n",
        "data['EMA_10'] = data['Close'].ewm(span=10, adjust=False).mean()\n",
        "data['Momentum'] = data['Close'] - data['Close'].shift(5)\n",
        "data['Volatility'] = data['Returns'].rolling(window=5).std()\n",
        "data['ROC_5'] = data['Close'].pct_change(periods=5)\n",
        "data['Price_Change'] = data['Close'].pct_change()\n",
        "data['Lag_1'] = data['Close'].shift(1)\n",
        "data['Cumulative_Returns'] = (1 + data['Returns']).cumprod() - 1\n",
        "data['RSI'] = 100 - (100 / (1 + data['Returns'].rolling(window=14).mean() /\n",
        "                             abs(data['Returns'].rolling(window=14).mean())))\n",
        "\n",
        "# Remove infinite values (if any)\n",
        "data.replace([np.inf, -np.inf], np.nan, inplace=True)\n",
        "data.dropna(inplace=True)\n",
        "\n",
        "# Prepare data for model prediction\n",
        "X = data[['SMA_5', 'SMA_10', 'SMA_20', 'EMA_5', 'EMA_10', 'Momentum', 'Volatility', 'ROC_5', 'Price_Change', 'Lag_1', 'RSI']]\n",
        "y = np.where(data['Returns'] > 0, 1, 0)  # 1 for up, 0 for down\n",
        "\n",
        "# Scale features\n",
        "scaler = StandardScaler()\n",
        "X_scaled = scaler.fit_transform(X)\n",
        "\n",
        "# Load the pre-trained model\n",
        "model_path = \"/content/svm_model.pkl\"\n",
        "svm_model = joblib.load(model_path)\n",
        "\n",
        "# Make predictions\n",
        "y_pred = svm_model.predict(X_scaled)\n",
        "data['Predicted_Signal'] = y_pred\n",
        "\n",
        "# Backtest the strategy with the pre-trained model\n",
        "data['Strategy_Returns'] = data['Returns'] * data['Predicted_Signal'].shift(1)\n",
        "\n",
        "# Add stop-loss and take-profit conditions\n",
        "data['Strategy_Returns'] = np.where(data['Strategy_Returns'] < -0.01, -0.01, data['Strategy_Returns'])  # Stop-loss at -1%\n",
        "data['Strategy_Returns'] = np.where(data['Strategy_Returns'] > 0.02, 0.02, data['Strategy_Returns'])   # Take-profit at 2%\n",
        "\n",
        "# Cumulative returns of the strategy\n",
        "data['Cumulative_Returns_Strategy'] = (1 + data['Strategy_Returns']).cumprod()\n",
        "\n",
        "# Portfolio value calculation\n",
        "initial_balance = 100000  # Initial portfolio value\n",
        "data['Portfolio_Value'] = initial_balance * data['Cumulative_Returns_Strategy']\n",
        "\n",
        "# Performance evaluation\n",
        "winning_trades = data[data['Strategy_Returns'] > 0]\n",
        "losing_trades = data[data['Strategy_Returns'] < 0]\n",
        "total_trades = len(winning_trades) + len(losing_trades)  # Define total_trades here\n",
        "net_profit = data['Portfolio_Value'].iloc[-1] - initial_balance\n",
        "net_loss = -min(data['Portfolio_Value'].min() - initial_balance, 0)\n",
        "sharpe_ratio = data['Strategy_Returns'].mean() / data['Strategy_Returns'].std() * np.sqrt(252)\n",
        "win_ratio = (len(winning_trades) / total_trades) if total_trades else 0  # Avoid division by zero\n",
        "loss_ratio = (len(losing_trades) / total_trades) if total_trades else 0\n",
        "total_winning_trades = len(winning_trades)\n",
        "total_losing_trades = len(losing_trades)\n",
        "avg_winning_trade = winning_trades['Strategy_Returns'].mean()\n",
        "avg_losing_trade = losing_trades['Strategy_Returns'].mean()\n",
        "\n",
        "\n",
        "# Print performance metrics\n",
        "print(\"Backtest Performance Metrics:\")\n",
        "print(f\"Average Winning Trade: {avg_winning_trade:.4f}\")\n",
        "print(f\"Average Losing Trade: {avg_losing_trade:.4f}\")\n",
        "print(f\"Total Winning Trades: {total_winning_trades}\")\n",
        "print(f\"Total Losing Trades: {total_losing_trades}\")\n",
        "print(f\"Sharpe Ratio: {sharpe_ratio:.2f}\")\n",
        "print(f\"Win Ratio: {win_ratio:.2f}\")\n",
        "print(f\"Loss Ratio: {loss_ratio:.2f}\")\n",
        "print(f\"Net Profit: {net_profit:.2f}\")\n",
        "print(f\"Net Loss: {net_loss:.2f}\")"
      ],
      "metadata": {
        "colab": {
          "base_uri": "https://localhost:8080/"
        },
        "id": "8s1LHfRFaAtg",
        "outputId": "dc286ec9-fc33-40ef-8d59-96dee8cc9334"
      },
      "execution_count": null,
      "outputs": [
        {
          "output_type": "stream",
          "name": "stderr",
          "text": [
            "\r[*********************100%***********************]  1 of 1 completed"
          ]
        },
        {
          "output_type": "stream",
          "name": "stdout",
          "text": [
            "Backtest Performance Metrics:\n",
            "Average Winning Trade: 0.0052\n",
            "Average Losing Trade: -0.0040\n",
            "Total Winning Trades: 69\n",
            "Total Losing Trades: 50\n",
            "Sharpe Ratio: 3.73\n",
            "Win Ratio: 0.58\n",
            "Loss Ratio: 0.42\n",
            "Net Profit: 17282.27\n",
            "Net Loss: 483.14\n"
          ]
        },
        {
          "output_type": "stream",
          "name": "stderr",
          "text": [
            "\n"
          ]
        }
      ]
    },
    {
      "cell_type": "code",
      "source": [
        "data.head()"
      ],
      "metadata": {
        "colab": {
          "base_uri": "https://localhost:8080/",
          "height": 423
        },
        "id": "dcWcjO_XMVEF",
        "outputId": "03049d73-56cd-4304-b3cc-dd4d86e18068"
      },
      "execution_count": null,
      "outputs": [
        {
          "output_type": "execute_result",
          "data": {
            "text/plain": [
              "Price                     Adj Close     Close      High       Low      Open  \\\n",
              "Ticker                     EURUSD=X  EURUSD=X  EURUSD=X  EURUSD=X  EURUSD=X   \n",
              "Date                                                                          \n",
              "2010-03-03 00:00:00+00:00  1.370163  1.370163  1.373400  1.359841  1.362008   \n",
              "2010-03-05 00:00:00+00:00  1.362899  1.362899  1.362899  1.353656  1.358308   \n",
              "2010-03-09 00:00:00+00:00  1.360692  1.360692  1.363587  1.353858  1.361823   \n",
              "2010-03-10 00:00:00+00:00  1.364331  1.364331  1.367671  1.354867  1.360933   \n",
              "2010-03-11 00:00:00+00:00  1.368532  1.368532  1.368794  1.362305  1.364927   \n",
              "\n",
              "Price                       Volume   Returns     SMA_5    SMA_10    SMA_20  \\\n",
              "Ticker                    EURUSD=X                                           \n",
              "Date                                                                         \n",
              "2010-03-03 00:00:00+00:00        0  0.005946  1.361028  1.358038  1.363563   \n",
              "2010-03-05 00:00:00+00:00        0  0.003312  1.361947  1.359402  1.362503   \n",
              "2010-03-09 00:00:00+00:00        0 -0.000735  1.362770  1.360314  1.361438   \n",
              "2010-03-10 00:00:00+00:00        0  0.002674  1.361603  1.361316  1.360888   \n",
              "2010-03-11 00:00:00+00:00        0  0.003079  1.363629  1.362809  1.360906   \n",
              "\n",
              "Price                      ... Volatility     ROC_5 Price_Change     Lag_1  \\\n",
              "Ticker                     ...                                               \n",
              "Date                       ...                                               \n",
              "2010-03-03 00:00:00+00:00  ...   0.005044  0.011701     0.005946  1.362064   \n",
              "2010-03-05 00:00:00+00:00  ...   0.006408 -0.000150     0.003312  1.358400   \n",
              "2010-03-09 00:00:00+00:00  ...   0.005504 -0.001007    -0.000735  1.361693   \n",
              "2010-03-10 00:00:00+00:00  ...   0.004733 -0.004257     0.002674  1.360692   \n",
              "2010-03-11 00:00:00+00:00  ...   0.002112  0.007458     0.003079  1.364331   \n",
              "\n",
              "Price                     Cumulative_Returns   RSI Predicted_Signal  \\\n",
              "Ticker                                                                \n",
              "Date                                                                  \n",
              "2010-03-03 00:00:00+00:00          -0.047832  50.0         1.279983   \n",
              "2010-03-05 00:00:00+00:00          -0.052880  50.0         1.248135   \n",
              "2010-03-09 00:00:00+00:00          -0.054414  50.0         1.243626   \n",
              "2010-03-10 00:00:00+00:00          -0.051885  50.0         1.238718   \n",
              "2010-03-11 00:00:00+00:00          -0.048966  50.0         1.261189   \n",
              "\n",
              "Price                     Strategy_Returns Cumulative_Returns_Strategy  \\\n",
              "Ticker                                                                   \n",
              "Date                                                                     \n",
              "2010-03-03 00:00:00+00:00              NaN                         NaN   \n",
              "2010-03-05 00:00:00+00:00         0.004239                    1.004239   \n",
              "2010-03-09 00:00:00+00:00        -0.000917                    1.003318   \n",
              "2010-03-10 00:00:00+00:00         0.003326                    1.006655   \n",
              "2010-03-11 00:00:00+00:00         0.003814                    1.010494   \n",
              "\n",
              "Price                     Portfolio_Value  \n",
              "Ticker                                     \n",
              "Date                                       \n",
              "2010-03-03 00:00:00+00:00             NaN  \n",
              "2010-03-05 00:00:00+00:00   100423.913297  \n",
              "2010-03-09 00:00:00+00:00   100331.815975  \n",
              "2010-03-10 00:00:00+00:00   100665.488338  \n",
              "2010-03-11 00:00:00+00:00   101049.442480  \n",
              "\n",
              "[5 rows x 23 columns]"
            ],
            "text/html": [
              "\n",
              "  <div id=\"df-4ab3ae97-04ab-4184-87f5-3fdcf423dee3\" class=\"colab-df-container\">\n",
              "    <div>\n",
              "<style scoped>\n",
              "    .dataframe tbody tr th:only-of-type {\n",
              "        vertical-align: middle;\n",
              "    }\n",
              "\n",
              "    .dataframe tbody tr th {\n",
              "        vertical-align: top;\n",
              "    }\n",
              "\n",
              "    .dataframe thead tr th {\n",
              "        text-align: left;\n",
              "    }\n",
              "\n",
              "    .dataframe thead tr:last-of-type th {\n",
              "        text-align: right;\n",
              "    }\n",
              "</style>\n",
              "<table border=\"1\" class=\"dataframe\">\n",
              "  <thead>\n",
              "    <tr>\n",
              "      <th>Price</th>\n",
              "      <th>Adj Close</th>\n",
              "      <th>Close</th>\n",
              "      <th>High</th>\n",
              "      <th>Low</th>\n",
              "      <th>Open</th>\n",
              "      <th>Volume</th>\n",
              "      <th>Returns</th>\n",
              "      <th>SMA_5</th>\n",
              "      <th>SMA_10</th>\n",
              "      <th>SMA_20</th>\n",
              "      <th>...</th>\n",
              "      <th>Volatility</th>\n",
              "      <th>ROC_5</th>\n",
              "      <th>Price_Change</th>\n",
              "      <th>Lag_1</th>\n",
              "      <th>Cumulative_Returns</th>\n",
              "      <th>RSI</th>\n",
              "      <th>Predicted_Signal</th>\n",
              "      <th>Strategy_Returns</th>\n",
              "      <th>Cumulative_Returns_Strategy</th>\n",
              "      <th>Portfolio_Value</th>\n",
              "    </tr>\n",
              "    <tr>\n",
              "      <th>Ticker</th>\n",
              "      <th>EURUSD=X</th>\n",
              "      <th>EURUSD=X</th>\n",
              "      <th>EURUSD=X</th>\n",
              "      <th>EURUSD=X</th>\n",
              "      <th>EURUSD=X</th>\n",
              "      <th>EURUSD=X</th>\n",
              "      <th></th>\n",
              "      <th></th>\n",
              "      <th></th>\n",
              "      <th></th>\n",
              "      <th>...</th>\n",
              "      <th></th>\n",
              "      <th></th>\n",
              "      <th></th>\n",
              "      <th></th>\n",
              "      <th></th>\n",
              "      <th></th>\n",
              "      <th></th>\n",
              "      <th></th>\n",
              "      <th></th>\n",
              "      <th></th>\n",
              "    </tr>\n",
              "    <tr>\n",
              "      <th>Date</th>\n",
              "      <th></th>\n",
              "      <th></th>\n",
              "      <th></th>\n",
              "      <th></th>\n",
              "      <th></th>\n",
              "      <th></th>\n",
              "      <th></th>\n",
              "      <th></th>\n",
              "      <th></th>\n",
              "      <th></th>\n",
              "      <th></th>\n",
              "      <th></th>\n",
              "      <th></th>\n",
              "      <th></th>\n",
              "      <th></th>\n",
              "      <th></th>\n",
              "      <th></th>\n",
              "      <th></th>\n",
              "      <th></th>\n",
              "      <th></th>\n",
              "      <th></th>\n",
              "    </tr>\n",
              "  </thead>\n",
              "  <tbody>\n",
              "    <tr>\n",
              "      <th>2010-03-03 00:00:00+00:00</th>\n",
              "      <td>1.370163</td>\n",
              "      <td>1.370163</td>\n",
              "      <td>1.373400</td>\n",
              "      <td>1.359841</td>\n",
              "      <td>1.362008</td>\n",
              "      <td>0</td>\n",
              "      <td>0.005946</td>\n",
              "      <td>1.361028</td>\n",
              "      <td>1.358038</td>\n",
              "      <td>1.363563</td>\n",
              "      <td>...</td>\n",
              "      <td>0.005044</td>\n",
              "      <td>0.011701</td>\n",
              "      <td>0.005946</td>\n",
              "      <td>1.362064</td>\n",
              "      <td>-0.047832</td>\n",
              "      <td>50.0</td>\n",
              "      <td>1.279983</td>\n",
              "      <td>NaN</td>\n",
              "      <td>NaN</td>\n",
              "      <td>NaN</td>\n",
              "    </tr>\n",
              "    <tr>\n",
              "      <th>2010-03-05 00:00:00+00:00</th>\n",
              "      <td>1.362899</td>\n",
              "      <td>1.362899</td>\n",
              "      <td>1.362899</td>\n",
              "      <td>1.353656</td>\n",
              "      <td>1.358308</td>\n",
              "      <td>0</td>\n",
              "      <td>0.003312</td>\n",
              "      <td>1.361947</td>\n",
              "      <td>1.359402</td>\n",
              "      <td>1.362503</td>\n",
              "      <td>...</td>\n",
              "      <td>0.006408</td>\n",
              "      <td>-0.000150</td>\n",
              "      <td>0.003312</td>\n",
              "      <td>1.358400</td>\n",
              "      <td>-0.052880</td>\n",
              "      <td>50.0</td>\n",
              "      <td>1.248135</td>\n",
              "      <td>0.004239</td>\n",
              "      <td>1.004239</td>\n",
              "      <td>100423.913297</td>\n",
              "    </tr>\n",
              "    <tr>\n",
              "      <th>2010-03-09 00:00:00+00:00</th>\n",
              "      <td>1.360692</td>\n",
              "      <td>1.360692</td>\n",
              "      <td>1.363587</td>\n",
              "      <td>1.353858</td>\n",
              "      <td>1.361823</td>\n",
              "      <td>0</td>\n",
              "      <td>-0.000735</td>\n",
              "      <td>1.362770</td>\n",
              "      <td>1.360314</td>\n",
              "      <td>1.361438</td>\n",
              "      <td>...</td>\n",
              "      <td>0.005504</td>\n",
              "      <td>-0.001007</td>\n",
              "      <td>-0.000735</td>\n",
              "      <td>1.361693</td>\n",
              "      <td>-0.054414</td>\n",
              "      <td>50.0</td>\n",
              "      <td>1.243626</td>\n",
              "      <td>-0.000917</td>\n",
              "      <td>1.003318</td>\n",
              "      <td>100331.815975</td>\n",
              "    </tr>\n",
              "    <tr>\n",
              "      <th>2010-03-10 00:00:00+00:00</th>\n",
              "      <td>1.364331</td>\n",
              "      <td>1.364331</td>\n",
              "      <td>1.367671</td>\n",
              "      <td>1.354867</td>\n",
              "      <td>1.360933</td>\n",
              "      <td>0</td>\n",
              "      <td>0.002674</td>\n",
              "      <td>1.361603</td>\n",
              "      <td>1.361316</td>\n",
              "      <td>1.360888</td>\n",
              "      <td>...</td>\n",
              "      <td>0.004733</td>\n",
              "      <td>-0.004257</td>\n",
              "      <td>0.002674</td>\n",
              "      <td>1.360692</td>\n",
              "      <td>-0.051885</td>\n",
              "      <td>50.0</td>\n",
              "      <td>1.238718</td>\n",
              "      <td>0.003326</td>\n",
              "      <td>1.006655</td>\n",
              "      <td>100665.488338</td>\n",
              "    </tr>\n",
              "    <tr>\n",
              "      <th>2010-03-11 00:00:00+00:00</th>\n",
              "      <td>1.368532</td>\n",
              "      <td>1.368532</td>\n",
              "      <td>1.368794</td>\n",
              "      <td>1.362305</td>\n",
              "      <td>1.364927</td>\n",
              "      <td>0</td>\n",
              "      <td>0.003079</td>\n",
              "      <td>1.363629</td>\n",
              "      <td>1.362809</td>\n",
              "      <td>1.360906</td>\n",
              "      <td>...</td>\n",
              "      <td>0.002112</td>\n",
              "      <td>0.007458</td>\n",
              "      <td>0.003079</td>\n",
              "      <td>1.364331</td>\n",
              "      <td>-0.048966</td>\n",
              "      <td>50.0</td>\n",
              "      <td>1.261189</td>\n",
              "      <td>0.003814</td>\n",
              "      <td>1.010494</td>\n",
              "      <td>101049.442480</td>\n",
              "    </tr>\n",
              "  </tbody>\n",
              "</table>\n",
              "<p>5 rows × 23 columns</p>\n",
              "</div>\n",
              "    <div class=\"colab-df-buttons\">\n",
              "\n",
              "  <div class=\"colab-df-container\">\n",
              "    <button class=\"colab-df-convert\" onclick=\"convertToInteractive('df-4ab3ae97-04ab-4184-87f5-3fdcf423dee3')\"\n",
              "            title=\"Convert this dataframe to an interactive table.\"\n",
              "            style=\"display:none;\">\n",
              "\n",
              "  <svg xmlns=\"http://www.w3.org/2000/svg\" height=\"24px\" viewBox=\"0 -960 960 960\">\n",
              "    <path d=\"M120-120v-720h720v720H120Zm60-500h600v-160H180v160Zm220 220h160v-160H400v160Zm0 220h160v-160H400v160ZM180-400h160v-160H180v160Zm440 0h160v-160H620v160ZM180-180h160v-160H180v160Zm440 0h160v-160H620v160Z\"/>\n",
              "  </svg>\n",
              "    </button>\n",
              "\n",
              "  <style>\n",
              "    .colab-df-container {\n",
              "      display:flex;\n",
              "      gap: 12px;\n",
              "    }\n",
              "\n",
              "    .colab-df-convert {\n",
              "      background-color: #E8F0FE;\n",
              "      border: none;\n",
              "      border-radius: 50%;\n",
              "      cursor: pointer;\n",
              "      display: none;\n",
              "      fill: #1967D2;\n",
              "      height: 32px;\n",
              "      padding: 0 0 0 0;\n",
              "      width: 32px;\n",
              "    }\n",
              "\n",
              "    .colab-df-convert:hover {\n",
              "      background-color: #E2EBFA;\n",
              "      box-shadow: 0px 1px 2px rgba(60, 64, 67, 0.3), 0px 1px 3px 1px rgba(60, 64, 67, 0.15);\n",
              "      fill: #174EA6;\n",
              "    }\n",
              "\n",
              "    .colab-df-buttons div {\n",
              "      margin-bottom: 4px;\n",
              "    }\n",
              "\n",
              "    [theme=dark] .colab-df-convert {\n",
              "      background-color: #3B4455;\n",
              "      fill: #D2E3FC;\n",
              "    }\n",
              "\n",
              "    [theme=dark] .colab-df-convert:hover {\n",
              "      background-color: #434B5C;\n",
              "      box-shadow: 0px 1px 3px 1px rgba(0, 0, 0, 0.15);\n",
              "      filter: drop-shadow(0px 1px 2px rgba(0, 0, 0, 0.3));\n",
              "      fill: #FFFFFF;\n",
              "    }\n",
              "  </style>\n",
              "\n",
              "    <script>\n",
              "      const buttonEl =\n",
              "        document.querySelector('#df-4ab3ae97-04ab-4184-87f5-3fdcf423dee3 button.colab-df-convert');\n",
              "      buttonEl.style.display =\n",
              "        google.colab.kernel.accessAllowed ? 'block' : 'none';\n",
              "\n",
              "      async function convertToInteractive(key) {\n",
              "        const element = document.querySelector('#df-4ab3ae97-04ab-4184-87f5-3fdcf423dee3');\n",
              "        const dataTable =\n",
              "          await google.colab.kernel.invokeFunction('convertToInteractive',\n",
              "                                                    [key], {});\n",
              "        if (!dataTable) return;\n",
              "\n",
              "        const docLinkHtml = 'Like what you see? Visit the ' +\n",
              "          '<a target=\"_blank\" href=https://colab.research.google.com/notebooks/data_table.ipynb>data table notebook</a>'\n",
              "          + ' to learn more about interactive tables.';\n",
              "        element.innerHTML = '';\n",
              "        dataTable['output_type'] = 'display_data';\n",
              "        await google.colab.output.renderOutput(dataTable, element);\n",
              "        const docLink = document.createElement('div');\n",
              "        docLink.innerHTML = docLinkHtml;\n",
              "        element.appendChild(docLink);\n",
              "      }\n",
              "    </script>\n",
              "  </div>\n",
              "\n",
              "\n",
              "<div id=\"df-bcb7bc7a-5221-4a3b-9fd2-adebdb676712\">\n",
              "  <button class=\"colab-df-quickchart\" onclick=\"quickchart('df-bcb7bc7a-5221-4a3b-9fd2-adebdb676712')\"\n",
              "            title=\"Suggest charts\"\n",
              "            style=\"display:none;\">\n",
              "\n",
              "<svg xmlns=\"http://www.w3.org/2000/svg\" height=\"24px\"viewBox=\"0 0 24 24\"\n",
              "     width=\"24px\">\n",
              "    <g>\n",
              "        <path d=\"M19 3H5c-1.1 0-2 .9-2 2v14c0 1.1.9 2 2 2h14c1.1 0 2-.9 2-2V5c0-1.1-.9-2-2-2zM9 17H7v-7h2v7zm4 0h-2V7h2v10zm4 0h-2v-4h2v4z\"/>\n",
              "    </g>\n",
              "</svg>\n",
              "  </button>\n",
              "\n",
              "<style>\n",
              "  .colab-df-quickchart {\n",
              "      --bg-color: #E8F0FE;\n",
              "      --fill-color: #1967D2;\n",
              "      --hover-bg-color: #E2EBFA;\n",
              "      --hover-fill-color: #174EA6;\n",
              "      --disabled-fill-color: #AAA;\n",
              "      --disabled-bg-color: #DDD;\n",
              "  }\n",
              "\n",
              "  [theme=dark] .colab-df-quickchart {\n",
              "      --bg-color: #3B4455;\n",
              "      --fill-color: #D2E3FC;\n",
              "      --hover-bg-color: #434B5C;\n",
              "      --hover-fill-color: #FFFFFF;\n",
              "      --disabled-bg-color: #3B4455;\n",
              "      --disabled-fill-color: #666;\n",
              "  }\n",
              "\n",
              "  .colab-df-quickchart {\n",
              "    background-color: var(--bg-color);\n",
              "    border: none;\n",
              "    border-radius: 50%;\n",
              "    cursor: pointer;\n",
              "    display: none;\n",
              "    fill: var(--fill-color);\n",
              "    height: 32px;\n",
              "    padding: 0;\n",
              "    width: 32px;\n",
              "  }\n",
              "\n",
              "  .colab-df-quickchart:hover {\n",
              "    background-color: var(--hover-bg-color);\n",
              "    box-shadow: 0 1px 2px rgba(60, 64, 67, 0.3), 0 1px 3px 1px rgba(60, 64, 67, 0.15);\n",
              "    fill: var(--button-hover-fill-color);\n",
              "  }\n",
              "\n",
              "  .colab-df-quickchart-complete:disabled,\n",
              "  .colab-df-quickchart-complete:disabled:hover {\n",
              "    background-color: var(--disabled-bg-color);\n",
              "    fill: var(--disabled-fill-color);\n",
              "    box-shadow: none;\n",
              "  }\n",
              "\n",
              "  .colab-df-spinner {\n",
              "    border: 2px solid var(--fill-color);\n",
              "    border-color: transparent;\n",
              "    border-bottom-color: var(--fill-color);\n",
              "    animation:\n",
              "      spin 1s steps(1) infinite;\n",
              "  }\n",
              "\n",
              "  @keyframes spin {\n",
              "    0% {\n",
              "      border-color: transparent;\n",
              "      border-bottom-color: var(--fill-color);\n",
              "      border-left-color: var(--fill-color);\n",
              "    }\n",
              "    20% {\n",
              "      border-color: transparent;\n",
              "      border-left-color: var(--fill-color);\n",
              "      border-top-color: var(--fill-color);\n",
              "    }\n",
              "    30% {\n",
              "      border-color: transparent;\n",
              "      border-left-color: var(--fill-color);\n",
              "      border-top-color: var(--fill-color);\n",
              "      border-right-color: var(--fill-color);\n",
              "    }\n",
              "    40% {\n",
              "      border-color: transparent;\n",
              "      border-right-color: var(--fill-color);\n",
              "      border-top-color: var(--fill-color);\n",
              "    }\n",
              "    60% {\n",
              "      border-color: transparent;\n",
              "      border-right-color: var(--fill-color);\n",
              "    }\n",
              "    80% {\n",
              "      border-color: transparent;\n",
              "      border-right-color: var(--fill-color);\n",
              "      border-bottom-color: var(--fill-color);\n",
              "    }\n",
              "    90% {\n",
              "      border-color: transparent;\n",
              "      border-bottom-color: var(--fill-color);\n",
              "    }\n",
              "  }\n",
              "</style>\n",
              "\n",
              "  <script>\n",
              "    async function quickchart(key) {\n",
              "      const quickchartButtonEl =\n",
              "        document.querySelector('#' + key + ' button');\n",
              "      quickchartButtonEl.disabled = true;  // To prevent multiple clicks.\n",
              "      quickchartButtonEl.classList.add('colab-df-spinner');\n",
              "      try {\n",
              "        const charts = await google.colab.kernel.invokeFunction(\n",
              "            'suggestCharts', [key], {});\n",
              "      } catch (error) {\n",
              "        console.error('Error during call to suggestCharts:', error);\n",
              "      }\n",
              "      quickchartButtonEl.classList.remove('colab-df-spinner');\n",
              "      quickchartButtonEl.classList.add('colab-df-quickchart-complete');\n",
              "    }\n",
              "    (() => {\n",
              "      let quickchartButtonEl =\n",
              "        document.querySelector('#df-bcb7bc7a-5221-4a3b-9fd2-adebdb676712 button');\n",
              "      quickchartButtonEl.style.display =\n",
              "        google.colab.kernel.accessAllowed ? 'block' : 'none';\n",
              "    })();\n",
              "  </script>\n",
              "</div>\n",
              "\n",
              "    </div>\n",
              "  </div>\n"
            ],
            "application/vnd.google.colaboratory.intrinsic+json": {
              "type": "dataframe",
              "variable_name": "data"
            }
          },
          "metadata": {},
          "execution_count": 40
        }
      ]
    },
    {
      "cell_type": "code",
      "source": [
        "data.isnull().sum()"
      ],
      "metadata": {
        "id": "ZlzK7CMCwU_E",
        "colab": {
          "base_uri": "https://localhost:8080/",
          "height": 837
        },
        "outputId": "a0058c58-f34c-455d-8b38-6d511520257f"
      },
      "execution_count": null,
      "outputs": [
        {
          "output_type": "execute_result",
          "data": {
            "text/plain": [
              "Price                        Ticker  \n",
              "Adj Close                    EURUSD=X    0\n",
              "Close                        EURUSD=X    0\n",
              "High                         EURUSD=X    0\n",
              "Low                          EURUSD=X    0\n",
              "Open                         EURUSD=X    0\n",
              "Volume                       EURUSD=X    0\n",
              "Returns                                  0\n",
              "SMA_5                                    0\n",
              "SMA_10                                   0\n",
              "SMA_20                                   0\n",
              "EMA_5                                    0\n",
              "EMA_10                                   0\n",
              "Momentum                                 0\n",
              "Volatility                               0\n",
              "ROC_5                                    0\n",
              "Price_Change                             0\n",
              "Lag_1                                    0\n",
              "Cumulative_Returns                       0\n",
              "RSI                                      0\n",
              "Predicted_Signal                         0\n",
              "Strategy_Returns                         1\n",
              "Cumulative_Returns_Strategy              1\n",
              "Portfolio_Value                          1\n",
              "dtype: int64"
            ],
            "text/html": [
              "<div>\n",
              "<style scoped>\n",
              "    .dataframe tbody tr th:only-of-type {\n",
              "        vertical-align: middle;\n",
              "    }\n",
              "\n",
              "    .dataframe tbody tr th {\n",
              "        vertical-align: top;\n",
              "    }\n",
              "\n",
              "    .dataframe thead th {\n",
              "        text-align: right;\n",
              "    }\n",
              "</style>\n",
              "<table border=\"1\" class=\"dataframe\">\n",
              "  <thead>\n",
              "    <tr style=\"text-align: right;\">\n",
              "      <th></th>\n",
              "      <th></th>\n",
              "      <th>0</th>\n",
              "    </tr>\n",
              "    <tr>\n",
              "      <th>Price</th>\n",
              "      <th>Ticker</th>\n",
              "      <th></th>\n",
              "    </tr>\n",
              "  </thead>\n",
              "  <tbody>\n",
              "    <tr>\n",
              "      <th>Adj Close</th>\n",
              "      <th>EURUSD=X</th>\n",
              "      <td>0</td>\n",
              "    </tr>\n",
              "    <tr>\n",
              "      <th>Close</th>\n",
              "      <th>EURUSD=X</th>\n",
              "      <td>0</td>\n",
              "    </tr>\n",
              "    <tr>\n",
              "      <th>High</th>\n",
              "      <th>EURUSD=X</th>\n",
              "      <td>0</td>\n",
              "    </tr>\n",
              "    <tr>\n",
              "      <th>Low</th>\n",
              "      <th>EURUSD=X</th>\n",
              "      <td>0</td>\n",
              "    </tr>\n",
              "    <tr>\n",
              "      <th>Open</th>\n",
              "      <th>EURUSD=X</th>\n",
              "      <td>0</td>\n",
              "    </tr>\n",
              "    <tr>\n",
              "      <th>Volume</th>\n",
              "      <th>EURUSD=X</th>\n",
              "      <td>0</td>\n",
              "    </tr>\n",
              "    <tr>\n",
              "      <th>Returns</th>\n",
              "      <th></th>\n",
              "      <td>0</td>\n",
              "    </tr>\n",
              "    <tr>\n",
              "      <th>SMA_5</th>\n",
              "      <th></th>\n",
              "      <td>0</td>\n",
              "    </tr>\n",
              "    <tr>\n",
              "      <th>SMA_10</th>\n",
              "      <th></th>\n",
              "      <td>0</td>\n",
              "    </tr>\n",
              "    <tr>\n",
              "      <th>SMA_20</th>\n",
              "      <th></th>\n",
              "      <td>0</td>\n",
              "    </tr>\n",
              "    <tr>\n",
              "      <th>EMA_5</th>\n",
              "      <th></th>\n",
              "      <td>0</td>\n",
              "    </tr>\n",
              "    <tr>\n",
              "      <th>EMA_10</th>\n",
              "      <th></th>\n",
              "      <td>0</td>\n",
              "    </tr>\n",
              "    <tr>\n",
              "      <th>Momentum</th>\n",
              "      <th></th>\n",
              "      <td>0</td>\n",
              "    </tr>\n",
              "    <tr>\n",
              "      <th>Volatility</th>\n",
              "      <th></th>\n",
              "      <td>0</td>\n",
              "    </tr>\n",
              "    <tr>\n",
              "      <th>ROC_5</th>\n",
              "      <th></th>\n",
              "      <td>0</td>\n",
              "    </tr>\n",
              "    <tr>\n",
              "      <th>Price_Change</th>\n",
              "      <th></th>\n",
              "      <td>0</td>\n",
              "    </tr>\n",
              "    <tr>\n",
              "      <th>Lag_1</th>\n",
              "      <th></th>\n",
              "      <td>0</td>\n",
              "    </tr>\n",
              "    <tr>\n",
              "      <th>Cumulative_Returns</th>\n",
              "      <th></th>\n",
              "      <td>0</td>\n",
              "    </tr>\n",
              "    <tr>\n",
              "      <th>RSI</th>\n",
              "      <th></th>\n",
              "      <td>0</td>\n",
              "    </tr>\n",
              "    <tr>\n",
              "      <th>Predicted_Signal</th>\n",
              "      <th></th>\n",
              "      <td>0</td>\n",
              "    </tr>\n",
              "    <tr>\n",
              "      <th>Strategy_Returns</th>\n",
              "      <th></th>\n",
              "      <td>1</td>\n",
              "    </tr>\n",
              "    <tr>\n",
              "      <th>Cumulative_Returns_Strategy</th>\n",
              "      <th></th>\n",
              "      <td>1</td>\n",
              "    </tr>\n",
              "    <tr>\n",
              "      <th>Portfolio_Value</th>\n",
              "      <th></th>\n",
              "      <td>1</td>\n",
              "    </tr>\n",
              "  </tbody>\n",
              "</table>\n",
              "</div><br><label><b>dtype:</b> int64</label>"
            ]
          },
          "metadata": {},
          "execution_count": 41
        }
      ]
    },
    {
      "cell_type": "code",
      "source": [
        "data.info()"
      ],
      "metadata": {
        "id": "i4qhxhOjC04R",
        "colab": {
          "base_uri": "https://localhost:8080/"
        },
        "outputId": "73922691-792c-4736-deed-5a80dbd13f97"
      },
      "execution_count": null,
      "outputs": [
        {
          "output_type": "stream",
          "name": "stdout",
          "text": [
            "<class 'pandas.core.frame.DataFrame'>\n",
            "DatetimeIndex: 1762 entries, 2010-03-03 00:00:00+00:00 to 2023-12-29 00:00:00+00:00\n",
            "Data columns (total 23 columns):\n",
            " #   Column                           Non-Null Count  Dtype  \n",
            "---  ------                           --------------  -----  \n",
            " 0   (Adj Close, EURUSD=X)            1762 non-null   float64\n",
            " 1   (Close, EURUSD=X)                1762 non-null   float64\n",
            " 2   (High, EURUSD=X)                 1762 non-null   float64\n",
            " 3   (Low, EURUSD=X)                  1762 non-null   float64\n",
            " 4   (Open, EURUSD=X)                 1762 non-null   float64\n",
            " 5   (Volume, EURUSD=X)               1762 non-null   int64  \n",
            " 6   (Returns, )                      1762 non-null   float64\n",
            " 7   (SMA_5, )                        1762 non-null   float64\n",
            " 8   (SMA_10, )                       1762 non-null   float64\n",
            " 9   (SMA_20, )                       1762 non-null   float64\n",
            " 10  (EMA_5, )                        1762 non-null   float64\n",
            " 11  (EMA_10, )                       1762 non-null   float64\n",
            " 12  (Momentum, )                     1762 non-null   float64\n",
            " 13  (Volatility, )                   1762 non-null   float64\n",
            " 14  (ROC_5, )                        1762 non-null   float64\n",
            " 15  (Price_Change, )                 1762 non-null   float64\n",
            " 16  (Lag_1, )                        1762 non-null   float64\n",
            " 17  (Cumulative_Returns, )           1762 non-null   float64\n",
            " 18  (RSI, )                          1762 non-null   float64\n",
            " 19  (Predicted_Signal, )             1762 non-null   float64\n",
            " 20  (Strategy_Returns, )             1761 non-null   float64\n",
            " 21  (Cumulative_Returns_Strategy, )  1761 non-null   float64\n",
            " 22  (Portfolio_Value, )              1761 non-null   float64\n",
            "dtypes: float64(22), int64(1)\n",
            "memory usage: 330.4 KB\n"
          ]
        }
      ]
    },
    {
      "cell_type": "code",
      "source": [],
      "metadata": {
        "id": "h0LDE32g2ksE"
      },
      "execution_count": null,
      "outputs": []
    }
  ],
  "metadata": {
    "colab": {
      "provenance": []
    },
    "kernelspec": {
      "display_name": "Python 3",
      "name": "python3"
    },
    "language_info": {
      "name": "python"
    }
  },
  "nbformat": 4,
  "nbformat_minor": 0
}